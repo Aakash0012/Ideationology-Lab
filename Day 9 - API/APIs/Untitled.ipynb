{
 "cells": [
  {
   "cell_type": "code",
   "execution_count": 1,
   "metadata": {},
   "outputs": [
    {
     "name": "stdout",
     "output_type": "stream",
     "text": [
      "Requirement already satisfied: firicks in c:\\users\\vicky\\anaconda3\\lib\\site-packages (0.0.1)\n"
     ]
    }
   ],
   "source": [
    "# !pip install firicks"
   ]
  },
  {
   "cell_type": "code",
   "execution_count": 3,
   "metadata": {},
   "outputs": [
    {
     "data": {
      "text/plain": [
       "<module 'vicks' from 'C:\\\\Users\\\\Vicky\\\\anaconda3\\\\lib\\\\site-packages\\\\vicks\\\\__init__.py'>"
      ]
     },
     "execution_count": 3,
     "metadata": {},
     "output_type": "execute_result"
    }
   ],
   "source": [
    "import vicks\n",
    "vicks"
   ]
  },
  {
   "cell_type": "code",
   "execution_count": 4,
   "metadata": {
    "scrolled": false
   },
   "outputs": [
    {
     "name": "stdout",
     "output_type": "stream",
     "text": [
      "Help on package vicks:\n",
      "\n",
      "NAME\n",
      "    vicks\n",
      "\n",
      "PACKAGE CONTENTS\n",
      "    account\n",
      "    async_fb\n",
      "    decorators\n",
      "    firebase\n",
      "    firebase_token_generator\n",
      "    jsonutil\n",
      "    lazy\n",
      "\n",
      "FUNCTIONS\n",
      "    close_process_pool()\n",
      "        Clean up function that closes and terminates the process pool\n",
      "        defined in the ``async`` file.\n",
      "\n",
      "DATA\n",
      "    process_pool = <multiprocessing.pool.Pool state=RUN pool_size=5>\n",
      "\n",
      "FILE\n",
      "    c:\\users\\vicky\\anaconda3\\lib\\site-packages\\vicks\\__init__.py\n",
      "\n",
      "\n"
     ]
    }
   ],
   "source": [
    "help(vicks)"
   ]
  },
  {
   "cell_type": "code",
   "execution_count": 5,
   "metadata": {},
   "outputs": [
    {
     "data": {
      "text/plain": [
       "<module 'vicks.firebase' from 'C:\\\\Users\\\\Vicky\\\\anaconda3\\\\lib\\\\site-packages\\\\vicks\\\\firebase.py'>"
      ]
     },
     "execution_count": 5,
     "metadata": {},
     "output_type": "execute_result"
    }
   ],
   "source": [
    "from vicks import firebase as f\n",
    "f"
   ]
  },
  {
   "cell_type": "code",
   "execution_count": 9,
   "metadata": {},
   "outputs": [
    {
     "data": {
      "text/plain": [
       "<vicks.firebase.FirebaseApplication at 0x1fbc2bf6a60>"
      ]
     },
     "execution_count": 9,
     "metadata": {},
     "output_type": "execute_result"
    }
   ],
   "source": [
    "firebase_obj = f.FirebaseApplication('https://vickservice-36ac9-default-rtdb.asia-southeast1.firebasedatabase.app/', None)\n",
    "firebase_obj"
   ]
  },
  {
   "cell_type": "code",
   "execution_count": 19,
   "metadata": {},
   "outputs": [
    {
     "data": {
      "text/plain": [
       "{'d11': 41}"
      ]
     },
     "execution_count": 19,
     "metadata": {},
     "output_type": "execute_result"
    }
   ],
   "source": [
    "# path = 'd/d1/d11'\n",
    "path = 'd/d1'\n",
    "\n",
    "result = firebase_obj.get(path, None)\n",
    "result"
   ]
  },
  {
   "cell_type": "code",
   "execution_count": 20,
   "metadata": {},
   "outputs": [
    {
     "data": {
      "text/plain": [
       "dict"
      ]
     },
     "execution_count": 20,
     "metadata": {},
     "output_type": "execute_result"
    }
   ],
   "source": [
    "type(result) "
   ]
  },
  {
   "cell_type": "code",
   "execution_count": null,
   "metadata": {},
   "outputs": [],
   "source": []
  }
 ],
 "metadata": {
  "kernelspec": {
   "display_name": "Python 3",
   "language": "python",
   "name": "python3"
  },
  "language_info": {
   "codemirror_mode": {
    "name": "ipython",
    "version": 3
   },
   "file_extension": ".py",
   "mimetype": "text/x-python",
   "name": "python",
   "nbconvert_exporter": "python",
   "pygments_lexer": "ipython3",
   "version": "3.8.3"
  }
 },
 "nbformat": 4,
 "nbformat_minor": 4
}
