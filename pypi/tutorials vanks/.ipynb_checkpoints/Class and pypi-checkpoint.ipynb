{
 "cells": [
  {
   "cell_type": "code",
   "execution_count": 4,
   "metadata": {},
   "outputs": [
    {
     "name": "stdout",
     "output_type": "stream",
     "text": [
      "Enter number to add : 1\n",
      "Enter number to add : 4\n",
      "Enter number to add : 8\n",
      "Enter number to add : 4\n",
      "Enter number to add : 0\n",
      "\n",
      "Sum = 17.0\n"
     ]
    }
   ],
   "source": [
    "a = True\n",
    "s = 0\n",
    "\n",
    "while a:\n",
    "    a = float(input('Enter number to add : '))\n",
    "    s += a\n",
    "\n",
    "print(f'\\nSum = {s}')"
   ]
  },
  {
   "cell_type": "code",
   "execution_count": 7,
   "metadata": {
    "scrolled": true
   },
   "outputs": [
    {
     "name": "stdout",
     "output_type": "stream",
     "text": [
      "Enter expression : +6\n",
      "\n",
      "Sum = 6.0\n",
      "Enter expression : -3\n",
      "\n",
      "Sum = 3.0\n",
      "Enter expression : *7\n",
      "\n",
      "Sum = 21.0\n",
      "Enter expression : *2\n",
      "\n",
      "Sum = 42.0\n",
      "Enter expression : /4\n",
      "\n",
      "Sum = 10.5\n",
      "Enter expression : -56.3\n",
      "\n",
      "Sum = -45.8\n",
      "Enter expression : 0\n"
     ]
    }
   ],
   "source": [
    "a = '01'\n",
    "s = 0\n",
    "\n",
    "while float(a[1:]):\n",
    "    a = input('Enter expression : ')\n",
    "    \n",
    "    if a[0] == '+':\n",
    "        s += float(a[1:])\n",
    "        \n",
    "    elif a[0] == '-':\n",
    "        s -= float(a[1:])\n",
    "        \n",
    "    elif a[0] == '*':\n",
    "        s *= float(a[1:])\n",
    "        \n",
    "    elif a[0] == '/':\n",
    "        s /= float(a[1:])\n",
    "        \n",
    "    else:\n",
    "        break\n",
    "        \n",
    "    print(f'\\nSum = {s}')"
   ]
  },
  {
   "cell_type": "code",
   "execution_count": 5,
   "metadata": {},
   "outputs": [],
   "source": [
    "class Bank_Account:\n",
    "    \n",
    "    def __init__(self, balance = 0):\n",
    "        self.balance = balance\n",
    "        print(\"Hello!!! Welcome to the Deposit & Withdrawal Machine\")\n",
    "\n",
    "    def deposit(self, amount):\n",
    "        self.balance += amount\n",
    "        print(\"\\n Amount Deposited:\", amount)\n",
    "\n",
    "    def withdraw(self, amount):\n",
    "        if self.balance>=amount:\n",
    "            self.balance-=amount\n",
    "            print(\"\\n You Withdrew:\", amount)\n",
    "        else:\n",
    "            print(\"\\n Insufficient balance \")\n",
    "\n",
    "    def display(self):\n",
    "        print(\"\\n Net Available Balance=\", self.balance) "
   ]
  },
  {
   "cell_type": "code",
   "execution_count": null,
   "metadata": {},
   "outputs": [],
   "source": []
  }
 ],
 "metadata": {
  "kernelspec": {
   "display_name": "Python 3",
   "language": "python",
   "name": "python3"
  },
  "language_info": {
   "codemirror_mode": {
    "name": "ipython",
    "version": 3
   },
   "file_extension": ".py",
   "mimetype": "text/x-python",
   "name": "python",
   "nbconvert_exporter": "python",
   "pygments_lexer": "ipython3",
   "version": "3.8.3"
  }
 },
 "nbformat": 4,
 "nbformat_minor": 4
}
