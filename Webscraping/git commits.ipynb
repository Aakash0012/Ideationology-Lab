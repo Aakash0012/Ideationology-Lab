{
 "cells": [
  {
   "cell_type": "markdown",
   "metadata": {},
   "source": [
    "# [Reference](https://www.geeksforgeeks.org/implementing-web-scraping-python-beautiful-soup/)"
   ]
  },
  {
   "cell_type": "code",
   "execution_count": 19,
   "metadata": {},
   "outputs": [
    {
     "name": "stdout",
     "output_type": "stream",
     "text": [
      "https://activity-graph.herokuapp.com/graph?username=imvickykumar999&custom_title=Recently%20contributions&hide_border=true&area=true&area_color=2895BC&point=FE0000&line=2895BC&theme=react-dark\n"
     ]
    }
   ],
   "source": [
    "username = 'imvickykumar999'\n",
    "url = f'https://activity-graph.herokuapp.com/graph?username={username}&custom_title=Recently%20contributions&hide_border=true&area=true&area_color=2895BC&point=FE0000&line=2895BC&theme=react-dark'  \n",
    "print(url)"
   ]
  },
  {
   "cell_type": "code",
   "execution_count": 20,
   "metadata": {},
   "outputs": [],
   "source": [
    "from bs4 import BeautifulSoup\n",
    "import requests\n",
    "\n",
    "r = requests.get(url)\n",
    "soup = BeautifulSoup(r.content, 'html5lib')\n",
    "# soup"
   ]
  },
  {
   "cell_type": "code",
   "execution_count": 21,
   "metadata": {
    "scrolled": true
   },
   "outputs": [
    {
     "data": {
      "text/plain": [
       "<g class=\"ct-grids\"><line class=\"ct-grid ct-horizontal\" x1=\"90\" x2=\"90\" y1=\"80\" y2=\"350\"></line><line class=\"ct-grid ct-horizontal\" x1=\"125.33333333333334\" x2=\"125.33333333333334\" y1=\"80\" y2=\"350\"></line><line class=\"ct-grid ct-horizontal\" x1=\"160.66666666666669\" x2=\"160.66666666666669\" y1=\"80\" y2=\"350\"></line><line class=\"ct-grid ct-horizontal\" x1=\"196\" x2=\"196\" y1=\"80\" y2=\"350\"></line><line class=\"ct-grid ct-horizontal\" x1=\"231.33333333333334\" x2=\"231.33333333333334\" y1=\"80\" y2=\"350\"></line><line class=\"ct-grid ct-horizontal\" x1=\"266.6666666666667\" x2=\"266.6666666666667\" y1=\"80\" y2=\"350\"></line><line class=\"ct-grid ct-horizontal\" x1=\"302\" x2=\"302\" y1=\"80\" y2=\"350\"></line><line class=\"ct-grid ct-horizontal\" x1=\"337.33333333333337\" x2=\"337.33333333333337\" y1=\"80\" y2=\"350\"></line><line class=\"ct-grid ct-horizontal\" x1=\"372.6666666666667\" x2=\"372.6666666666667\" y1=\"80\" y2=\"350\"></line><line class=\"ct-grid ct-horizontal\" x1=\"408\" x2=\"408\" y1=\"80\" y2=\"350\"></line><line class=\"ct-grid ct-horizontal\" x1=\"443.33333333333337\" x2=\"443.33333333333337\" y1=\"80\" y2=\"350\"></line><line class=\"ct-grid ct-horizontal\" x1=\"478.6666666666667\" x2=\"478.6666666666667\" y1=\"80\" y2=\"350\"></line><line class=\"ct-grid ct-horizontal\" x1=\"514\" x2=\"514\" y1=\"80\" y2=\"350\"></line><line class=\"ct-grid ct-horizontal\" x1=\"549.3333333333334\" x2=\"549.3333333333334\" y1=\"80\" y2=\"350\"></line><line class=\"ct-grid ct-horizontal\" x1=\"584.6666666666667\" x2=\"584.6666666666667\" y1=\"80\" y2=\"350\"></line><line class=\"ct-grid ct-horizontal\" x1=\"620\" x2=\"620\" y1=\"80\" y2=\"350\"></line><line class=\"ct-grid ct-horizontal\" x1=\"655.3333333333334\" x2=\"655.3333333333334\" y1=\"80\" y2=\"350\"></line><line class=\"ct-grid ct-horizontal\" x1=\"690.6666666666667\" x2=\"690.6666666666667\" y1=\"80\" y2=\"350\"></line><line class=\"ct-grid ct-horizontal\" x1=\"726\" x2=\"726\" y1=\"80\" y2=\"350\"></line><line class=\"ct-grid ct-horizontal\" x1=\"761.3333333333334\" x2=\"761.3333333333334\" y1=\"80\" y2=\"350\"></line><line class=\"ct-grid ct-horizontal\" x1=\"796.6666666666667\" x2=\"796.6666666666667\" y1=\"80\" y2=\"350\"></line><line class=\"ct-grid ct-horizontal\" x1=\"832\" x2=\"832\" y1=\"80\" y2=\"350\"></line><line class=\"ct-grid ct-horizontal\" x1=\"867.3333333333334\" x2=\"867.3333333333334\" y1=\"80\" y2=\"350\"></line><line class=\"ct-grid ct-horizontal\" x1=\"902.6666666666667\" x2=\"902.6666666666667\" y1=\"80\" y2=\"350\"></line><line class=\"ct-grid ct-horizontal\" x1=\"938\" x2=\"938\" y1=\"80\" y2=\"350\"></line><line class=\"ct-grid ct-horizontal\" x1=\"973.3333333333334\" x2=\"973.3333333333334\" y1=\"80\" y2=\"350\"></line><line class=\"ct-grid ct-horizontal\" x1=\"1008.6666666666667\" x2=\"1008.6666666666667\" y1=\"80\" y2=\"350\"></line><line class=\"ct-grid ct-horizontal\" x1=\"1044\" x2=\"1044\" y1=\"80\" y2=\"350\"></line><line class=\"ct-grid ct-horizontal\" x1=\"1079.3333333333335\" x2=\"1079.3333333333335\" y1=\"80\" y2=\"350\"></line><line class=\"ct-grid ct-horizontal\" x1=\"1114.6666666666667\" x2=\"1114.6666666666667\" y1=\"80\" y2=\"350\"></line><line class=\"ct-grid ct-horizontal\" x1=\"1150\" x2=\"1150\" y1=\"80\" y2=\"350\"></line><line class=\"ct-grid ct-vertical\" x1=\"90\" x2=\"1150\" y1=\"350\" y2=\"350\"></line><line class=\"ct-grid ct-vertical\" x1=\"90\" x2=\"1150\" y1=\"323\" y2=\"323\"></line><line class=\"ct-grid ct-vertical\" x1=\"90\" x2=\"1150\" y1=\"296\" y2=\"296\"></line><line class=\"ct-grid ct-vertical\" x1=\"90\" x2=\"1150\" y1=\"269\" y2=\"269\"></line><line class=\"ct-grid ct-vertical\" x1=\"90\" x2=\"1150\" y1=\"242\" y2=\"242\"></line><line class=\"ct-grid ct-vertical\" x1=\"90\" x2=\"1150\" y1=\"215\" y2=\"215\"></line><line class=\"ct-grid ct-vertical\" x1=\"90\" x2=\"1150\" y1=\"188\" y2=\"188\"></line><line class=\"ct-grid ct-vertical\" x1=\"90\" x2=\"1150\" y1=\"161\" y2=\"161\"></line><line class=\"ct-grid ct-vertical\" x1=\"90\" x2=\"1150\" y1=\"134\" y2=\"134\"></line><line class=\"ct-grid ct-vertical\" x1=\"90\" x2=\"1150\" y1=\"107\" y2=\"107\"></line><line class=\"ct-grid ct-vertical\" x1=\"90\" x2=\"1150\" y1=\"80\" y2=\"80\"></line></g>"
      ]
     },
     "execution_count": 21,
     "metadata": {},
     "output_type": "execute_result"
    }
   ],
   "source": [
    "table = soup.find('g', attrs = {'class':'ct-grids'}) \n",
    "table"
   ]
  },
  {
   "cell_type": "code",
   "execution_count": 29,
   "metadata": {
    "scrolled": true
   },
   "outputs": [
    {
     "name": "stdout",
     "output_type": "stream",
     "text": [
      "1 <line class=\"ct-grid ct-horizontal\" x1=\"90\" x2=\"90\" y1=\"80\" y2=\"350\"></line>\n",
      "2 <line class=\"ct-grid ct-horizontal\" x1=\"125.33333333333334\" x2=\"125.33333333333334\" y1=\"80\" y2=\"350\"></line>\n",
      "3 <line class=\"ct-grid ct-horizontal\" x1=\"160.66666666666669\" x2=\"160.66666666666669\" y1=\"80\" y2=\"350\"></line>\n",
      "4 <line class=\"ct-grid ct-horizontal\" x1=\"196\" x2=\"196\" y1=\"80\" y2=\"350\"></line>\n",
      "5 <line class=\"ct-grid ct-horizontal\" x1=\"231.33333333333334\" x2=\"231.33333333333334\" y1=\"80\" y2=\"350\"></line>\n",
      "6 <line class=\"ct-grid ct-horizontal\" x1=\"266.6666666666667\" x2=\"266.6666666666667\" y1=\"80\" y2=\"350\"></line>\n",
      "7 <line class=\"ct-grid ct-horizontal\" x1=\"302\" x2=\"302\" y1=\"80\" y2=\"350\"></line>\n",
      "8 <line class=\"ct-grid ct-horizontal\" x1=\"337.33333333333337\" x2=\"337.33333333333337\" y1=\"80\" y2=\"350\"></line>\n",
      "9 <line class=\"ct-grid ct-horizontal\" x1=\"372.6666666666667\" x2=\"372.6666666666667\" y1=\"80\" y2=\"350\"></line>\n",
      "10 <line class=\"ct-grid ct-horizontal\" x1=\"408\" x2=\"408\" y1=\"80\" y2=\"350\"></line>\n",
      "11 <line class=\"ct-grid ct-horizontal\" x1=\"443.33333333333337\" x2=\"443.33333333333337\" y1=\"80\" y2=\"350\"></line>\n",
      "12 <line class=\"ct-grid ct-horizontal\" x1=\"478.6666666666667\" x2=\"478.6666666666667\" y1=\"80\" y2=\"350\"></line>\n",
      "13 <line class=\"ct-grid ct-horizontal\" x1=\"514\" x2=\"514\" y1=\"80\" y2=\"350\"></line>\n",
      "14 <line class=\"ct-grid ct-horizontal\" x1=\"549.3333333333334\" x2=\"549.3333333333334\" y1=\"80\" y2=\"350\"></line>\n",
      "15 <line class=\"ct-grid ct-horizontal\" x1=\"584.6666666666667\" x2=\"584.6666666666667\" y1=\"80\" y2=\"350\"></line>\n",
      "16 <line class=\"ct-grid ct-horizontal\" x1=\"620\" x2=\"620\" y1=\"80\" y2=\"350\"></line>\n",
      "17 <line class=\"ct-grid ct-horizontal\" x1=\"655.3333333333334\" x2=\"655.3333333333334\" y1=\"80\" y2=\"350\"></line>\n",
      "18 <line class=\"ct-grid ct-horizontal\" x1=\"690.6666666666667\" x2=\"690.6666666666667\" y1=\"80\" y2=\"350\"></line>\n",
      "19 <line class=\"ct-grid ct-horizontal\" x1=\"726\" x2=\"726\" y1=\"80\" y2=\"350\"></line>\n",
      "20 <line class=\"ct-grid ct-horizontal\" x1=\"761.3333333333334\" x2=\"761.3333333333334\" y1=\"80\" y2=\"350\"></line>\n",
      "21 <line class=\"ct-grid ct-horizontal\" x1=\"796.6666666666667\" x2=\"796.6666666666667\" y1=\"80\" y2=\"350\"></line>\n",
      "22 <line class=\"ct-grid ct-horizontal\" x1=\"832\" x2=\"832\" y1=\"80\" y2=\"350\"></line>\n",
      "23 <line class=\"ct-grid ct-horizontal\" x1=\"867.3333333333334\" x2=\"867.3333333333334\" y1=\"80\" y2=\"350\"></line>\n",
      "24 <line class=\"ct-grid ct-horizontal\" x1=\"902.6666666666667\" x2=\"902.6666666666667\" y1=\"80\" y2=\"350\"></line>\n",
      "25 <line class=\"ct-grid ct-horizontal\" x1=\"938\" x2=\"938\" y1=\"80\" y2=\"350\"></line>\n",
      "26 <line class=\"ct-grid ct-horizontal\" x1=\"973.3333333333334\" x2=\"973.3333333333334\" y1=\"80\" y2=\"350\"></line>\n",
      "27 <line class=\"ct-grid ct-horizontal\" x1=\"1008.6666666666667\" x2=\"1008.6666666666667\" y1=\"80\" y2=\"350\"></line>\n",
      "28 <line class=\"ct-grid ct-horizontal\" x1=\"1044\" x2=\"1044\" y1=\"80\" y2=\"350\"></line>\n",
      "29 <line class=\"ct-grid ct-horizontal\" x1=\"1079.3333333333335\" x2=\"1079.3333333333335\" y1=\"80\" y2=\"350\"></line>\n",
      "30 <line class=\"ct-grid ct-horizontal\" x1=\"1114.6666666666667\" x2=\"1114.6666666666667\" y1=\"80\" y2=\"350\"></line>\n",
      "31 <line class=\"ct-grid ct-horizontal\" x1=\"1150\" x2=\"1150\" y1=\"80\" y2=\"350\"></line>\n"
     ]
    }
   ],
   "source": [
    "lst = table.findAll('line', attrs = {'class':'ct-grid ct-horizontal'})\n",
    "for i, row in enumerate(lst):\n",
    "#     print(row['x2'], row['y2'])\n",
    "    print(i+1, row)"
   ]
  },
  {
   "cell_type": "code",
   "execution_count": null,
   "metadata": {},
   "outputs": [],
   "source": []
  }
 ],
 "metadata": {
  "kernelspec": {
   "display_name": "Python 3",
   "language": "python",
   "name": "python3"
  },
  "language_info": {
   "codemirror_mode": {
    "name": "ipython",
    "version": 3
   },
   "file_extension": ".py",
   "mimetype": "text/x-python",
   "name": "python",
   "nbconvert_exporter": "python",
   "pygments_lexer": "ipython3",
   "version": "3.8.3"
  }
 },
 "nbformat": 4,
 "nbformat_minor": 4
}
