{
 "cells": [
  {
   "cell_type": "markdown",
   "metadata": {},
   "source": [
    "### function for minimum of 3 integers"
   ]
  },
  {
   "cell_type": "code",
   "execution_count": 17,
   "metadata": {},
   "outputs": [],
   "source": [
    "def mini(a = 5, b = 3, c = 8):\n",
    "    if a < b and a < c:\n",
    "        return a\n",
    "    elif b < a and b < c:\n",
    "        return b\n",
    "    else:\n",
    "        return c"
   ]
  },
  {
   "cell_type": "code",
   "execution_count": 18,
   "metadata": {},
   "outputs": [],
   "source": [
    "m = mini() "
   ]
  },
  {
   "cell_type": "code",
   "execution_count": 19,
   "metadata": {},
   "outputs": [
    {
     "data": {
      "text/plain": [
       "3"
      ]
     },
     "execution_count": 19,
     "metadata": {},
     "output_type": "execute_result"
    }
   ],
   "source": [
    "m"
   ]
  },
  {
   "cell_type": "code",
   "execution_count": 20,
   "metadata": {},
   "outputs": [
    {
     "data": {
      "text/plain": [
       "4"
      ]
     },
     "execution_count": 20,
     "metadata": {},
     "output_type": "execute_result"
    }
   ],
   "source": [
    "mini(8, 4, 9) "
   ]
  },
  {
   "cell_type": "code",
   "execution_count": 21,
   "metadata": {},
   "outputs": [],
   "source": [
    "def maxi():\n",
    "    pass"
   ]
  },
  {
   "cell_type": "code",
   "execution_count": 22,
   "metadata": {},
   "outputs": [],
   "source": [
    "maxi() "
   ]
  },
  {
   "cell_type": "code",
   "execution_count": 23,
   "metadata": {},
   "outputs": [
    {
     "name": "stdout",
     "output_type": "stream",
     "text": [
      "Hello!!! Welcome to the Deposit & Withdrawal Machine\n",
      "Enter amount to be Deposited: 100\n",
      "\n",
      " Amount Deposited: 100.0\n",
      "Enter amount to be Withdrawn: 500\n",
      "\n",
      " You Withdrew: 500.0\n",
      "\n",
      " Net Available Balance= 1600.0\n"
     ]
    }
   ],
   "source": [
    "class Bank_Account:\n",
    "    def __init__(self, balance = 0):\n",
    "        self.balance = balance\n",
    "        print(\"Hello!!! Welcome to the Deposit & Withdrawal Machine\")\n",
    "\n",
    "    def deposit(self):\n",
    "        amount=float(input(\"Enter amount to be Deposited: \"))\n",
    "        self.balance += amount\n",
    "        print(\"\\n Amount Deposited:\",amount)\n",
    "\n",
    "    def withdraw(self):\n",
    "        amount = float(input(\"Enter amount to be Withdrawn: \"))\n",
    "        if self.balance>=amount:\n",
    "            self.balance-=amount\n",
    "            print(\"\\n You Withdrew:\", amount)\n",
    "        else:\n",
    "            print(\"\\n Insufficient balance \")\n",
    "\n",
    "    def display(self):\n",
    "        print(\"\\n Net Available Balance=\",self.balance)\n",
    "\n",
    "s = Bank_Account(2000)\n",
    "\n",
    "s.deposit()\n",
    "s.withdraw()\n",
    "s.display()\n"
   ]
  },
  {
   "cell_type": "code",
   "execution_count": 25,
   "metadata": {},
   "outputs": [
    {
     "name": "stdout",
     "output_type": "stream",
     "text": [
      "\n",
      ">>> Available functions in vixtor Package are...\n",
      " \n",
      "\n",
      "\t...try this,\n",
      "\n",
      "\tfrom vixtor import threeDvector as vix\n",
      "\tprint( vix.angbw2line( printing = True ))\n",
      "\n",
      ">>> Made with LOVE and HARDWORK...\n",
      "\n",
      "\tmod(vector=[2,1,2])\n",
      "\n",
      "\tshowline(a=[-1, 0, 2], b=[4, 4, 4], u=10)\n",
      "\n",
      "\tshowplane(n=[1, 1, 2])\n",
      "\n",
      "\tline(a=[1, 2, -4], b=[2, 3, 6], \n",
      "\ttwo_points=False, sno='', printing=False)\n",
      "\t\n",
      "\tplane(a=[2, 5, -3], n=[-2, -3, 5], p=[5, 3, -3], dis=34,\n",
      "\tnd=False, three_points=False, sno='', printing=False)\n",
      "\n",
      "\tcomp_hcf(x=15, y=80)\n",
      "\n",
      "\tangbw2line(a1=[3, 2, -4], b1=[1, 2, 2],\n",
      "\ta2=[5, -2, 0], b2=[3, 2, 6], printing=False)\n",
      "\n",
      "\tdistbw2line(a1=[1, 2, -4], b1=[2, 3, 6],\n",
      "\ta2=[3, 3, -5], b2=[2, 3, 6], printing=False)\n",
      "\n",
      "\tcoplanof2line(a1=[-3, 1, 5], b1=[-3, 1, 5],\n",
      "\ta2=[-1, 2, 5], b2=[-1, 2, 5], printing=False)\n",
      "\n",
      "\tangbw2plane(n1=[3, -6, 2], d1=7,\n",
      "\tn2=[2, 1, -2], d2=5, printing=False)\n",
      "\n",
      "\tdistbwpointandplane(a=[2, 5, -3],\n",
      "\tn=[6, -3, 2], d=4, printing=False)\n",
      "\n",
      "\tangbwlineandplane(a=[2, 5, -3], b=[3, 5, 1],\n",
      "\tn=[6, -3, 2], d=4, printing=False)\n",
      "\n",
      "....The moving power of mathematical invention is not \n",
      "reasoning but imagination. – A.DEMORGAN\n",
      "\n",
      "Help on package vixtor:\n",
      "\n",
      "NAME\n",
      "    vixtor\n",
      "\n",
      "PACKAGE CONTENTS\n",
      "    threeDvector\n",
      "\n",
      "DATA\n",
      "    available_functions = '\\n\\n\\t...try this,\\n\\n\\tfrom vixtor import thre...\n",
      "\n",
      "FILE\n",
      "    c:\\users\\vicky\\anaconda3\\lib\\site-packages\\vixtor\\__init__.py\n",
      "\n",
      "\n"
     ]
    }
   ],
   "source": [
    "import vixtor\n",
    "help(vixtor)"
   ]
  },
  {
   "cell_type": "code",
   "execution_count": null,
   "metadata": {},
   "outputs": [],
   "source": []
  }
 ],
 "metadata": {
  "kernelspec": {
   "display_name": "Python 3",
   "language": "python",
   "name": "python3"
  },
  "language_info": {
   "codemirror_mode": {
    "name": "ipython",
    "version": 3
   },
   "file_extension": ".py",
   "mimetype": "text/x-python",
   "name": "python",
   "nbconvert_exporter": "python",
   "pygments_lexer": "ipython3",
   "version": "3.8.3"
  }
 },
 "nbformat": 4,
 "nbformat_minor": 4
}
