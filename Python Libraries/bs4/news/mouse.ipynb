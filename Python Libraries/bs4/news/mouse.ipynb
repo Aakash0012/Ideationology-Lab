{
 "cells": [
  {
   "cell_type": "code",
   "execution_count": 4,
   "metadata": {},
   "outputs": [],
   "source": [
    "from PIL import Image\n",
    "from PIL import ImageDraw\n",
    "from PIL import ImageFont\n",
    " \n",
    "img = Image.open('drake.jpg')\n",
    "w,h = img.size\n",
    "\n",
    "I1 = I2 = ImageDraw.Draw(img)\n",
    "myFont = ImageFont.truetype('PlayfairDisplaySC-Bold.otf', 65)\n",
    " \n",
    "text1 = '''\n",
    "Pay\n",
    "for \n",
    "Movie\n",
    "'''\n",
    "\n",
    "text2 = '''\n",
    "Use\n",
    "Telegram\n",
    "'''\n",
    "\n",
    "I1.text((100 + w/2, h/4 - 200), text1, \n",
    "        font=myFont, fill =(0, 0, 0))\n",
    "\n",
    "I2.text((100 + w/2, h*3/4 - 200), text2,\n",
    "        font=myFont, fill =(0, 0, 0))\n",
    "\n",
    "# img.show()\n",
    "img.save(\"news.png\")"
   ]
  },
  {
   "cell_type": "markdown",
   "metadata": {},
   "source": [
    "### https://stackoverflow.com/a/34867101/11493297"
   ]
  },
  {
   "cell_type": "code",
   "execution_count": null,
   "metadata": {},
   "outputs": [],
   "source": []
  }
 ],
 "metadata": {
  "kernelspec": {
   "display_name": "Python 3",
   "language": "python",
   "name": "python3"
  },
  "language_info": {
   "codemirror_mode": {
    "name": "ipython",
    "version": 3
   },
   "file_extension": ".py",
   "mimetype": "text/x-python",
   "name": "python",
   "nbconvert_exporter": "python",
   "pygments_lexer": "ipython3",
   "version": "3.8.3"
  }
 },
 "nbformat": 4,
 "nbformat_minor": 4
}
