{
 "cells": [
  {
   "cell_type": "code",
   "execution_count": 19,
   "metadata": {},
   "outputs": [],
   "source": [
    "from PIL import Image\n",
    "from PIL import ImageDraw\n",
    "from PIL import ImageFont\n",
    " \n",
    "img = Image.open('drake.jpg')\n",
    "w,h = img.size\n",
    "\n",
    "I1 = I2 = ImageDraw.Draw(img)\n",
    "myFont = ImageFont.truetype('PlayfairDisplaySC-Bold.otf', 65)\n",
    " \n",
    "text1 = '''\n",
    "Pay\n",
    "for \n",
    "Movie\n",
    "'''\n",
    "\n",
    "text2 = '''\n",
    "Use\n",
    "Telegram\n",
    "'''\n",
    "\n",
    "I1.text((100 + w/2, h/4 - 200), text1, \n",
    "        font=myFont, fill =(0, 0, 0))\n",
    "\n",
    "I2.text((100 + w/2, h*3/4 - 200), text2,\n",
    "        font=myFont, fill =(0, 0, 0))\n",
    "\n",
    "img.show()\n",
    "img.save(\"news.png\")"
   ]
  },
  {
   "cell_type": "markdown",
   "metadata": {},
   "source": [
    "### https://stackoverflow.com/a/34867101/11493297"
   ]
  },
  {
   "cell_type": "markdown",
   "metadata": {},
   "source": [
    "### https://morioh.com/p/cfbeadc3ecd7"
   ]
  },
  {
   "cell_type": "markdown",
   "metadata": {},
   "source": [
    "### https://stackoverflow.com/a/66808498/11493297"
   ]
  },
  {
   "cell_type": "code",
   "execution_count": 14,
   "metadata": {},
   "outputs": [],
   "source": [
    "boxes = [\n",
    "    {\n",
    "        \"text\": \"One does not simply\",\n",
    "        \"x\": 0,\n",
    "        \"y\": 0,\n",
    "        \"width\": 548,\n",
    "        \"height\": 100,\n",
    "        \"color\": \"#ffffff\",\n",
    "        \"outline_color\": \"#000000\"\n",
    "    },\n",
    "    {\n",
    "        \"text\": \"Make custom memes on the web via imgflip API\",\n",
    "        \"x\": 10,\n",
    "        \"y\": 225,\n",
    "        \"width\": 548,\n",
    "        \"height\": 100,\n",
    "        \"color\": \"#ffffff\",\n",
    "        \"outline_color\": \"#000000\"\n",
    "    }\n",
    "]"
   ]
  },
  {
   "cell_type": "code",
   "execution_count": 17,
   "metadata": {},
   "outputs": [
    {
     "name": "stdout",
     "output_type": "stream",
     "text": [
      "https://i.imgflip.com/62ac6i.jpg\n"
     ]
    }
   ],
   "source": [
    "import requests\n",
    "\n",
    "idno = 7\n",
    "username = 'imvickykumar999'\n",
    "password = 'Hellovix999@'\n",
    "\n",
    "data = requests.get('https://api.imgflip.com/get_memes').json()['data']['memes']\n",
    "images = [{'name':image['name'],'url':image['url'],'id':image['id'],\n",
    "           'box_count':image['box_count']} for image in data]\n",
    "\n",
    "URL = 'https://api.imgflip.com/caption_image'\n",
    "params = {\n",
    "    'username': username,\n",
    "    'password': password,\n",
    "    'template_id': images[idno-1]['id'],    \n",
    "    \"boxes[0][text]\": boxes[0]['text'],\n",
    "    \"boxes[1][text]\": boxes[1]['text'],\n",
    "    \"boxes[0][x]\": boxes[0]['x'],\n",
    "    \"boxes[0][y]\": boxes[0]['y'],\n",
    "}\n",
    "response = requests.request('POST', URL, params=params).json()\n",
    "print(response['data']['url'])\n",
    "# response"
   ]
  },
  {
   "cell_type": "code",
   "execution_count": 21,
   "metadata": {},
   "outputs": [
    {
     "name": "stdout",
     "output_type": "stream",
     "text": [
      "#####------>  {'success': True, 'data': {'url': 'https://i.imgflip.com/62a92i.jpg', 'page_url': 'https://imgflip.com/i/62a92i'}}\n"
     ]
    }
   ],
   "source": [
    "def memers(idno = 2, text0 = 'C++', text1 = 'Python'):\n",
    "    import requests\n",
    "\n",
    "    username = 'imvickykumar999'\n",
    "    password = 'Hellovix999@'\n",
    "\n",
    "    data = requests.get('https://api.imgflip.com/get_memes').json()['data']['memes']\n",
    "    images = [{'name':image['name'],'url':image['url'],'id':image['id'],\n",
    "               'box_count':image['box_count']} for image in data]\n",
    "\n",
    "    URL = 'https://api.imgflip.com/caption_image'\n",
    "    params = {\n",
    "        'username': username,\n",
    "        'password': password,\n",
    "        'template_id':images[idno-1]['id'],\n",
    "        'text0':text0,\n",
    "        'text1':text1,\n",
    "    }\n",
    "    response = requests.request('POST', URL, params=params).json()\n",
    "    print('#####------> ', response)\n",
    "#     return response['data']['url'], images\n",
    "memers()"
   ]
  },
  {
   "cell_type": "code",
   "execution_count": null,
   "metadata": {},
   "outputs": [],
   "source": []
  }
 ],
 "metadata": {
  "kernelspec": {
   "display_name": "Python 3",
   "language": "python",
   "name": "python3"
  },
  "language_info": {
   "codemirror_mode": {
    "name": "ipython",
    "version": 3
   },
   "file_extension": ".py",
   "mimetype": "text/x-python",
   "name": "python",
   "nbconvert_exporter": "python",
   "pygments_lexer": "ipython3",
   "version": "3.8.3"
  }
 },
 "nbformat": 4,
 "nbformat_minor": 4
}
