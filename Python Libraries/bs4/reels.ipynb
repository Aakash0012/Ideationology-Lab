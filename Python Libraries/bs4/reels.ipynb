{
 "cells": [
  {
   "cell_type": "code",
   "execution_count": 17,
   "metadata": {},
   "outputs": [],
   "source": [
    "import time, os\n",
    "from instascrape import Reel\n",
    "\n",
    "SESSIONID = \"7015147780%3AGjgjWCIB1acYBy%3A7\"\n",
    "headers = {\n",
    "\"User-Agent\": \"Mozilla/5.0 (Windows NT 10.0; Win64; x64) AppleWebKit/537.36 (KHTML, like Gecko) Chrome/79.0.3945.74 Safari/537.36 Edg/79.0.309.43\",\n",
    "# \"User-Agent\":\"Mozilla/5.0 (Linux; Android 6.0; Nexus 5 Build/MRA58N) AppleWebKit/537.36 (KHTML, like Gecko) Chrome/87.0.4280.88 Mobile Safari/537.36 Edg/87.0.664.57\",\n",
    "\"cookie\":f'sessionid={SESSIONID};'\n",
    "}\n",
    "\n",
    "# url = 'https://www.instagram.com/reel/CThxP4inK07/?utm_source=ig_web_copy_link'\n",
    "url = 'https://www.instagram.com/p/CWYJhYrqcVQ/'\n",
    "link = f'https://www.instagram.com/reel/{url.split(\"/\")[4]}'\n",
    "\n",
    "google_reel=Reel(link)\n",
    "google_reel.scrape(headers=headers)\n",
    "\n",
    "filename = 'reels.mp4'\n",
    "google_reel.download(fp=filename) \n",
    "os.startfile(filename) "
   ]
  },
  {
   "cell_type": "code",
   "execution_count": 9,
   "metadata": {},
   "outputs": [
    {
     "data": {
      "text/plain": [
       "'https://www.instagram.com/reel/CThxP4inK07/?utm_source=ig_web_copy_link'"
      ]
     },
     "execution_count": 9,
     "metadata": {},
     "output_type": "execute_result"
    }
   ],
   "source": [
    "link = 'https://www.instagram.com/reel/CThxP4inK07/?utm_source=ig_web_copy_link'\n",
    "link"
   ]
  },
  {
   "cell_type": "code",
   "execution_count": 12,
   "metadata": {},
   "outputs": [
    {
     "data": {
      "text/plain": [
       "'CThxP4inK07'"
      ]
     },
     "execution_count": 12,
     "metadata": {},
     "output_type": "execute_result"
    }
   ],
   "source": [
    "link.split('/')[4]"
   ]
  },
  {
   "cell_type": "code",
   "execution_count": 14,
   "metadata": {},
   "outputs": [
    {
     "data": {
      "text/plain": [
       "'https://www.instagram.com/reel/CThxP4inK07'"
      ]
     },
     "execution_count": 14,
     "metadata": {},
     "output_type": "execute_result"
    }
   ],
   "source": [
    "url = f'https://www.instagram.com/reel/{link.split(\"/\")[4]}'\n",
    "url"
   ]
  },
  {
   "cell_type": "code",
   "execution_count": 14,
   "metadata": {},
   "outputs": [
    {
     "data": {
      "text/plain": [
       "'https://imgflip.com/i/629k4l'"
      ]
     },
     "execution_count": 14,
     "metadata": {},
     "output_type": "execute_result"
    }
   ],
   "source": [
    "url = 'https://imgflip.com/i/629k4l'\n",
    "url"
   ]
  },
  {
   "cell_type": "code",
   "execution_count": 15,
   "metadata": {},
   "outputs": [
    {
     "data": {
      "text/plain": [
       "<!DOCTYPE html>\n",
       "<html><head>\n",
       "<meta content=\"text/html; charset=utf-8\" http-equiv=\"Content-Type\"/>\n",
       "<meta content=\"width=device-width, initial-scale=1\" name=\"viewport\"/>\n",
       "<script>\n",
       "img={\"id\":366602277,\"uid\":0,\"author_pro\":false,\"type\":\"jpg\",\"generator\":\"meme\",\"submitted\":false,\"featured\":false,\"can_submit\":true,\"stream_mod_uids\":[],\"stream_name\":null};a=new XMLHttpRequest();\n",
       "a.onload=function(){I=JSON.parse(this.responseText);if(window.initData)initData();};\n",
       "a.open('get','/ajax_get_le_data?i=366602277',true);\n",
       "a.send();\n",
       "</script>\n",
       "<script>\n",
       "_gaq_empty=[];\n",
       "var _gaq=_gaq||_gaq_empty;\n",
       "_gaq.push(['_setAccount','UA-20041150-5']);\n",
       "_gaq.push(['_setDomainName','imgflip.com']);\n",
       "_gaq.push(['_setSiteSpeedSampleRate',5]);\n",
       "_gaq.push(['_setCustomVar',1,'Standalone App',typeof window.matchMedia!=='undefined'&&window.matchMedia('(display-mode: standalone)').matches?'Yes':'No',2]);\n",
       "_gaq.push(['_trackPageview']);\n",
       "(function(d){\n",
       "var ga=d.createElement('script');ga.type='text/javascript';ga.async=true;\n",
       "ga.src = ('https:' == document.location.protocol ? 'https://' : 'http://') + 'stats.g.doubleclick.net/dc.js';\n",
       "var s=d.getElementsByTagName('script')[0];s.parentNode.insertBefore(ga,s);\n",
       "})(document);\n",
       "version=1266;\n",
       "spriteNum=3513;\n",
       "IMAGE_DOMAIN='//i.imgflip.com/';\n",
       "STATIC_DOMAIN='//s.imgflip.com/';\n",
       "mm=0;\n",
       "</script>\n",
       "<style>\n",
       ".i-banner{width:320px;height:50px;display:block;margin:0 auto;overflow:hidden;}\n",
       "@media(min-width:500px){.i-banner{width:468px;height:60px;}}\n",
       "@media(min-width:760px){.i-banner{width:728px;height:90px;}}\n",
       "</style>\n",
       "<link href=\"/favicon.ico?b\" rel=\"icon\"/>\n",
       "<link href=\"/imgflip-icon-96.png\" rel=\"icon\" sizes=\"96x96\"/>\n",
       "<link href=\"/apple-touch-icon.png?c\" rel=\"icon\" sizes=\"180x180\"/>\n",
       "<link href=\"/apple-touch-icon.png?c\" rel=\"apple-touch-icon\"/>\n",
       "<meta content=\"yes\" name=\"apple-mobile-web-app-capable\"/>\n",
       "<meta content=\"black\" name=\"apple-mobile-web-app-status-bar-style\"/>\n",
       "<meta content=\"Imgflip\" name=\"apple-mobile-web-app-title\"/>\n",
       "<meta content=\"#333\" name=\"theme-color\"/>\n",
       "<link href=\"/manifest.json\" rel=\"manifest\"/>\n",
       "<link href=\"//s.imgflip.com/v1266/style.css\" media=\"screen\" rel=\"stylesheet\"/>\n",
       "<link href=\"//s.imgflip.com/v1266/flip.css\" media=\"screen\" rel=\"stylesheet\"/>\n",
       "<title>Running Away Balloon Meme - Imgflip</title>\n",
       "<meta content=\"A Running Away Balloon meme. Caption your own images or memes with our Meme Generator.\" name=\"description\"/>\n",
       "<meta content=\"Imgflip\" property=\"og:site_name\"/>\n",
       "<meta content=\"Running Away Balloon\" property=\"og:title\"/>\n",
       "<meta content=\"https://i.imgflip.com/629k4l.jpg\" property=\"og:url\"/>\n",
       "<meta content=\"website\" property=\"og:type\"/>\n",
       "<meta content=\"https://i.imgflip.com/629k4l.jpg\" property=\"og:image\"/>\n",
       "<meta content=\"500\" property=\"og:image:width\"/>\n",
       "<meta content=\"672\" property=\"og:image:height\"/>\n",
       "<meta content=\"photo\" name=\"twitter:card\"/>\n",
       "<meta content=\"@imgflip\" name=\"twitter:site\"/>\n",
       "<meta content=\"Running Away Balloon\" name=\"twitter:title\"/>\n",
       "<meta content=\"https://i.imgflip.com/629k4l.jpg\" name=\"twitter:image\"/>\n",
       "<meta content=\"https://imgflip.com/i/629k4l\" name=\"twitter:url\"/>\n",
       "</head>\n",
       "<body class=\"fixed-header\">\n",
       "<script>if(document.cookie.search(/(^|\\s|;)dm=1\\b/)!==-1)document.body.className+=' darkmode';</script>\n",
       "<div id=\"panel-back\">\n",
       "<div id=\"panel\">\n",
       "<div class=\"nt-nots\" id=\"nt-nots-mini\"></div>\n",
       "<a class=\"nav\" href=\"/\">\n",
       "<img alt=\"Imgflip Logo\" id=\"logo\" src=\"/imgflip_white_96.png\"/>\n",
       "<img alt=\"Imgflip Logo Icon\" id=\"logo-icon\" src=\"/imgflip-icon-transparent-192.svg\"/>\n",
       "</a>\n",
       "<div class=\"nav menu-wrap\" id=\"nav-make\">\n",
       "<div class=\"menu-btn nosel down-arrow\" id=\"nav-make-inner\">Create</div>\n",
       "<div class=\"menu\" id=\"make-list\">\n",
       "<a class=\"make-item\" href=\"/memegenerator\" title=\"Meme Generator\">\n",
       "<svg class=\"make-icon make-icon-meme\" height=\"30\" width=\"30\">\n",
       "<g transform=\"scale(.3)\">\n",
       "<path d=\"M 20 0 l 30 50 l -50 -10 l 0 -40 z\"></path>\n",
       "<path d=\"M 60 0 l 40 0 l -50 50 z\"></path>\n",
       "<path d=\"M 100 60 l 0 40 l -20 0 l -30 -50 z\"></path>\n",
       "<path d=\"M 40 100 l -40 0 l 50 -50 z\"></path>\n",
       "</g>\n",
       "</svg>\n",
       " Make a Meme\n",
       "</a>\n",
       "<a class=\"make-item\" href=\"/gif-maker\" title=\"Animated GIF Maker (from video, youtube, images, etc.)\">\n",
       "<svg class=\"make-icon make-icon-gif\">\n",
       "<g transform=\"scale(.3)\">\n",
       "<rect height=\"66\" width=\"66\" x=\"31\" y=\"3\"></rect>\n",
       "<rect height=\"66\" width=\"66\" x=\"17\" y=\"17\"></rect>\n",
       "<rect height=\"66\" width=\"66\" x=\"3\" y=\"31\"></rect>\n",
       "<path d=\"M 24 50 l 25 14 l -25 14 z\"></path>\n",
       "</g>\n",
       "</svg>\n",
       "Make a GIF\n",
       "</a>\n",
       "<a class=\"make-item\" href=\"/chart-maker\" title=\"Chart Maker\">\n",
       "<svg class=\"make-icon make-icon-pie\">\n",
       "<g transform=\"scale(.3) rotate(-90) translate(-100)\">\n",
       "<circle cx=\"50\" cy=\"50\" r=\"25\"></circle>\n",
       "</g>\n",
       "</svg>\n",
       "Make a Chart\n",
       "</a>\n",
       "<a class=\"make-item\" href=\"/demotivational-maker\" title=\"Demotivational Poster Maker\">\n",
       "<div class=\"make-icon make-icon-demo\"><div class=\"make-icon-demo-inner\"></div></div>\n",
       "Make a Demotivational\n",
       "</a>\n",
       "</div>\n",
       "</div>\n",
       "<div class=\"nav img-flip\" id=\"panel-flip\">\n",
       "<svg class=\"rand-arrows\" height=\"20\" viewBox=\"0 0 144 60\" width=\"40\">\n",
       "<path class=\"line\" d=\"M 25 15 l 27 0 l 10 10 m 10 10 l 10 10 l 17 0\"></path>\n",
       "<path class=\"arrow\" d=\"M 99 45 l 0 -10 l 20 10 l -20 10 l 0 -10\"></path>\n",
       "<path class=\"line\" d=\"M 25 45 l 27 0 l 30 -30 l 17 0\"></path>\n",
       "<path class=\"arrow\" d=\"M 99 15 l 0 -10 l 20 10 l -20 10 l 0 -10\"></path>\n",
       "</svg>\n",
       "<div class=\"nav-tip\">Flip Through Images</div>\n",
       "</div>\n",
       "<div class=\"nav menu-wrap\" id=\"u-menu-wrap\">\n",
       "<div class=\"menu-btn nosel down-arrow\" id=\"u-menu-btn\">\n",
       "<span id=\"u-long\"></span>\n",
       "</div>\n",
       "<div class=\"menu\" id=\"u-menu\"></div>\n",
       "</div>\n",
       "<div class=\"display-none\" id=\"nt-count\"></div>\n",
       "<svg class=\"s-icon\" height=\"30\" id=\"panel-search-icon\" viewBox=\"0 0 100 100\" width=\"30\">\n",
       "<path d=\"M 20 80 l 25 -25\"></path>\n",
       "<circle cx=\"59\" cy=\"41\" r=\"20\"></circle>\n",
       "</svg>\n",
       "<div class=\"clear\"></div>\n",
       "</div>\n",
       "<div class=\"hidden\" id=\"panel-search-back\">\n",
       "<div id=\"panel-search\">\n",
       "<form action=\"/search\" class=\"s-form\" method=\"get\">\n",
       "<input autocapitalize=\"off\" autocomplete=\"off\" autocorrect=\"off\" id=\"panel-search-input\" name=\"q\" placeholder=\"Search memes, gifs, tags, users\" type=\"text\"/>\n",
       "</form>\n",
       "<button class=\"s-submit l but\" type=\"button\">\n",
       "<svg class=\"s-icon\" height=\"26\" viewBox=\"0 0 100 100\" width=\"26\">\n",
       "<path d=\"M 20 80 l 25 -25\"></path>\n",
       "<circle cx=\"59\" cy=\"41\" r=\"20\"></circle>\n",
       "</svg>\n",
       "</button>\n",
       "</div>\n",
       "</div>\n",
       "<div class=\"display-none\" id=\"panel-offline-msg\"></div>\n",
       "</div>\n",
       "<div class=\"img-page\" id=\"page\">\n",
       "<div id=\"img-primary\">\n",
       "<div id=\"img-main\">\n",
       "<h1 id=\"img-title\">Running Away Balloon</h1>\n",
       "<div id=\"img-wrap-wrap-wrap-lol\">\n",
       "<div id=\"img-wrap-wrap\" style=\"width:500px\">\n",
       "<div class=\"pause-wrap\" id=\"img-wrap\" style=\"padding-bottom:134.4%\">\n",
       "<img alt=\"Running Away Balloon Meme |  EX GF; CRUSH | image tagged in memes,running away balloon | made w/ Imgflip meme maker\" id=\"im\" src=\"//i.imgflip.com/629k4l.jpg\"/>\n",
       "</div>\n",
       "</div>\n",
       "</div>\n",
       "<div class=\"ibox\" id=\"img-panel\">\n",
       "<div class=\"clearfix\" id=\"img-panel-top\">\n",
       "<div class=\"img-vote-wrap\">\n",
       "<button class=\"but img-up -up\" type=\"button\"></button><button class=\"but img-down -down\" type=\"button\"></button>\n",
       "</div>\n",
       "<button class=\"img-share shr-open-btn but\" data-ext=\"jpg\" data-generator=\"meme\" data-h=\"672\" data-id=\"629k4l\" data-title=\"Running Away Balloon\" data-w=\"500\" type=\"button\">share<svg class=\"img-share-icon\" viewBox=\"0 0 100 100\"><path d=\"M80 20l-60 30l60 30\"></path><circle cx=\"80\" cy=\"20\" r=\"14\"></circle><circle cx=\"20\" cy=\"50\" r=\"14\"></circle><circle cx=\"80\" cy=\"80\" r=\"14\"></circle></svg>\n",
       "</button>\n",
       "</div>\n",
       "<div class=\"img-info\">\n",
       "<span class=\"img-views\">2 views</span>\n",
       "<span class=\"dot-sep\">•</span>\n",
       "<span class=\"img-author\">Made by anonymous <span class=\"img-date-info\">less than an hour ago</span></span>\n",
       "</div>\n",
       "<div class=\"img-tags\"><a class=\"img-tag tag-memes\" href=\"/tag/memes\">memes</a><a class=\"img-tag\" href=\"/meme/Running-Away-Balloon\">running away balloon</a></div>\n",
       "</div>\n",
       "<a class=\"recaption l but\" href=\"/memegenerator/Running-Away-Balloon\"><img alt=\"Running Away Balloon meme\" src=\"//i.imgflip.com/2/261o3j.jpg\"/><span class=\"recaption-text\">Caption this Meme</span></a> </div>\n",
       "<div id=\"c-area\">\n",
       "<div class=\"c-new-wrap\" id=\"c-new-main\">\n",
       "<textarea class=\"c-new-text\" maxlength=\"2500\" placeholder=\"Type a comment..\"></textarea>\n",
       "<div class=\"c-new-btn-wrap\">\n",
       "<button class=\"c-meme-btn l but\" type=\"button\">Add Meme</button><button class=\"c-add-img-btn l but\" type=\"button\">Add Image</button><button class=\"c-add-btn l but\" type=\"button\">Post Comment</button>\n",
       "</div>\n",
       "</div>\n",
       "<div id=\"img-coms\"></div>\n",
       "<div class=\"lb but display-none\" id=\"c-more-btn\">Show More Comments</div>\n",
       "</div>\n",
       "</div>\n",
       "<div id=\"img-secondary\">\n",
       "<div class=\"img-pane ibox\" id=\"flip-options\">\n",
       "<div id=\"flip-options-label\">Flip Settings</div>\n",
       "<div class=\"main-tags\">\n",
       "<button class=\"check-wrap\" id=\"show-memes\" type=\"button\"><svg viewBox=\"0 0 10 10\"><path d=\"M2,5l2,3l4,-6\"></path></svg><span class=\"check-text\">memes</span></button> <button class=\"check-wrap\" id=\"show-gifs\" type=\"button\"><svg viewBox=\"0 0 10 10\"><path d=\"M2,5l2,3l4,-6\"></path></svg><span class=\"check-text\">gifs</span></button> <button class=\"check-wrap\" id=\"show-other\" type=\"button\"><svg viewBox=\"0 0 10 10\"><path d=\"M2,5l2,3l4,-6\"></path></svg><span class=\"check-text\">other</span></button> </div>\n",
       "</div>\n",
       "<div id=\"flip-nav\">\n",
       "<a class=\"img-nav l but\" href=\"/i/629kha\" id=\"img-prev\" title=\"Flip to previous image\"></a><a class=\"img-nav l but\" href=\"/i/629k4a\" id=\"img-next\" title=\"Flip to next image\"></a><button class=\"img-nav l but img-flip\" id=\"img-flip\" title=\"Flip to a random image\" type=\"button\">\n",
       "<svg class=\"rand-arrows\" height=\"60\" width=\"144\">\n",
       "<path class=\"line\" d=\"M 25 15 l 27 0 l 10 10 m 10 10 l 10 10 l 17 0\"></path>\n",
       "<path class=\"arrow\" d=\"M 99 45 l 0 -10 l 20 10 l -20 10 l 0 -10\"></path>\n",
       "<path class=\"line\" d=\"M 25 45 l 27 0 l 30 -30 l 17 0\"></path>\n",
       "<path class=\"arrow\" d=\"M 99 15 l 0 -10 l 20 10 l -20 10 l 0 -10\"></path>\n",
       "</svg>\n",
       "</button>\n",
       "</div>\n",
       "<a class=\"recaption l but\" href=\"/memegenerator/Running-Away-Balloon\"><img alt=\"Running Away Balloon meme\" src=\"//i.imgflip.com/2/261o3j.jpg\"/><span class=\"recaption-text\">Caption this Meme</span></a>\n",
       "<div class=\"img-pane ibox\">\n",
       "<div id=\"img-source\">Created with the Imgflip <a href=\"/memegenerator\">Meme Generator</a></div>\n",
       "<div class=\"img-desc\">\n",
       "<div class=\"img-desc-label\">IMAGE DESCRIPTION:</div>\n",
       "EX GF; CRUSH </div>\n",
       "</div>\n",
       "<div class=\"img-hotkeys\">hotkeys: D = random, W = upvote, S = downvote, A = back</div>\n",
       "</div>\n",
       "<div class=\"clear\"></div>\n",
       "</div>\n",
       "<script>\n",
       "\tsfw=1;\n",
       "</script>\n",
       "<div id=\"footer\">\n",
       "<div id=\"footer-nav\">\n",
       "<a href=\"/pro?from=footer\">Imgflip Pro</a>\n",
       "<a href=\"/gif-maker\">GIF Maker</a>\n",
       "<a href=\"/memegenerator\">Meme Generator</a>\n",
       "<a href=\"/memetemplates\">Blank Meme Templates</a>\n",
       "<a href=\"/gif-templates\">GIF Templates</a>\n",
       "<a href=\"/chart-maker\">Chart Maker</a>\n",
       "<a href=\"/demotivational-maker\">Demotivational Maker</a>\n",
       "<a href=\"/image-cropper\">Image Cropper</a>\n",
       "<a href=\"/about\">About</a>\n",
       "<a href=\"/privacy\">Privacy</a>\n",
       "<a href=\"/terms\">Terms</a>\n",
       "<a href=\"/api\">API</a>\n",
       "<a href=\"/slack\">Slack App</a>\n",
       "<a href=\"/request_removal\">Request Image Removal</a>\n",
       "<span class=\"qc-ccpa-persistent-link\" id=\"do-not-sell-btn\"></span>\n",
       "</div>\n",
       "<div id=\"findUs\">\n",
       "<a href=\"https://www.facebook.com/imgflip\" id=\"on-fb\">Facebook</a>\n",
       "<a href=\"https://twitter.com/imgflip\" id=\"on-tw\">Twitter</a>\n",
       "<a href=\"https://play.google.com/store/apps/details?id=com.imgflip.twa\" id=\"on-android\">Android App</a>\n",
       "<a href=\"https://chrome.google.com/webstore/detail/imgflip-quick-create/ipdbhnffahpohpdkcelabahpmlheidff\" id=\"on-chrome\">Chrome Extension</a>\n",
       "</div>\n",
       "<div id=\"footline\">\n",
       "Empowering creativity on teh interwebz\n",
       "<br/>Imgflip LLC 2022 <br/><a href=\"/careers\" id=\"hiring-link\">Are you a web developer?</a>\n",
       "</div>\n",
       "</div>\n",
       "<div class=\"feedback feedback-open\" data-from=\"global\" title=\"Submit feedback about the site\">Feedback</div>\n",
       "<script src=\"https://s.imgflip.com/jq.js\"></script>\n",
       "<script src=\"//s.imgflip.com/v1266/common.js\"></script>\n",
       "<script src=\"//s.imgflip.com/v1266/m.js\"></script><script async=\"\" src=\"//s.imgflip.com/v1266/ImageCropper.js\"></script><script async=\"\" src=\"//s.imgflip.com/v1266/Slider.js\"></script>\n",
       "<script>\n",
       "\tgifVideoIids = [];\n",
       "\tlzs('//s.imgflip.com/v1266/m.css');\n",
       "\tlzs('//s.imgflip.com/v1266/ImageCropper.css');\n",
       "\tinitFlip();\n",
       "</script>\n",
       "<script crossorigin=\"anonymous\" data-cf-beacon='{\"rayId\":\"6d1a9319b84485a1\",\"token\":\"536a0d68222b4b1eb170795691f8cec4\",\"version\":\"2021.12.0\",\"si\":100}' defer=\"\" integrity=\"sha512-Gi7xpJR8tSkrpF7aordPZQlW2DLtzUlZcumS8dMQjwDHEnw9I7ZLyiOj/6tZStRBGtGgN6ceN6cMH8z7etPGlw==\" src=\"https://static.cloudflareinsights.com/beacon.min.js/v652eace1692a40cfa3763df669d7439c1639079717194\"></script>\n",
       "</body></html>"
      ]
     },
     "execution_count": 15,
     "metadata": {},
     "output_type": "execute_result"
    }
   ],
   "source": [
    "from bs4 import BeautifulSoup\n",
    "import requests\n",
    "\n",
    "r = requests.get(url)\n",
    "soup = BeautifulSoup(r.content, 'html5lib')\n",
    "soup"
   ]
  },
  {
   "cell_type": "code",
   "execution_count": 16,
   "metadata": {},
   "outputs": [
    {
     "data": {
      "text/plain": [
       "[<div class=\"pause-wrap\" id=\"img-wrap\" style=\"padding-bottom:134.4%\">\n",
       " <img alt=\"Running Away Balloon Meme |  EX GF; CRUSH | image tagged in memes,running away balloon | made w/ Imgflip meme maker\" id=\"im\" src=\"//i.imgflip.com/629k4l.jpg\"/>\n",
       " </div>]"
      ]
     },
     "execution_count": 16,
     "metadata": {},
     "output_type": "execute_result"
    }
   ],
   "source": [
    "a = soup.findAll('div', attrs = {'id':'img-wrap'})\n",
    "a"
   ]
  },
  {
   "cell_type": "code",
   "execution_count": 17,
   "metadata": {},
   "outputs": [
    {
     "data": {
      "text/plain": [
       "'629k4l.jpg'"
      ]
     },
     "execution_count": 17,
     "metadata": {},
     "output_type": "execute_result"
    }
   ],
   "source": [
    "p = a[0].img['src'].split('/')[-1]\n",
    "p"
   ]
  },
  {
   "cell_type": "code",
   "execution_count": 18,
   "metadata": {},
   "outputs": [
    {
     "name": "stdout",
     "output_type": "stream",
     "text": [
      "https://i.imgflip.com/629k4l.jpg\n"
     ]
    }
   ],
   "source": [
    "u = f'https://i.imgflip.com/{p}'\n",
    "print(u)"
   ]
  },
  {
   "cell_type": "code",
   "execution_count": 45,
   "metadata": {
    "scrolled": true
   },
   "outputs": [
    {
     "ename": "HTTPError",
     "evalue": "HTTP Error 403: Forbidden",
     "output_type": "error",
     "traceback": [
      "\u001b[1;31m---------------------------------------------------------------------------\u001b[0m",
      "\u001b[1;31mHTTPError\u001b[0m                                 Traceback (most recent call last)",
      "\u001b[1;32m<ipython-input-45-1231031c4fe1>\u001b[0m in \u001b[0;36m<module>\u001b[1;34m\u001b[0m\n\u001b[0;32m      1\u001b[0m \u001b[1;32mimport\u001b[0m \u001b[0murllib\u001b[0m\u001b[1;33m.\u001b[0m\u001b[0mrequest\u001b[0m\u001b[1;33m\u001b[0m\u001b[1;33m\u001b[0m\u001b[0m\n\u001b[1;32m----> 2\u001b[1;33m \u001b[0murllib\u001b[0m\u001b[1;33m.\u001b[0m\u001b[0mrequest\u001b[0m\u001b[1;33m.\u001b[0m\u001b[0murlretrieve\u001b[0m\u001b[1;33m(\u001b[0m\u001b[1;34m'https://i.imgflip.com/1ur9b0.jpg'\u001b[0m\u001b[1;33m,\u001b[0m \u001b[1;34m'save.jpg'\u001b[0m\u001b[1;33m)\u001b[0m\u001b[1;33m\u001b[0m\u001b[1;33m\u001b[0m\u001b[0m\n\u001b[0m\u001b[0;32m      3\u001b[0m \u001b[1;33m\u001b[0m\u001b[0m\n\u001b[0;32m      4\u001b[0m \u001b[1;31m# HTTPError: HTTP Error 403: Forbidden\u001b[0m\u001b[1;33m\u001b[0m\u001b[1;33m\u001b[0m\u001b[1;33m\u001b[0m\u001b[0m\n",
      "\u001b[1;32m~\\anaconda3\\lib\\urllib\\request.py\u001b[0m in \u001b[0;36murlretrieve\u001b[1;34m(url, filename, reporthook, data)\u001b[0m\n\u001b[0;32m    245\u001b[0m     \u001b[0murl_type\u001b[0m\u001b[1;33m,\u001b[0m \u001b[0mpath\u001b[0m \u001b[1;33m=\u001b[0m \u001b[0m_splittype\u001b[0m\u001b[1;33m(\u001b[0m\u001b[0murl\u001b[0m\u001b[1;33m)\u001b[0m\u001b[1;33m\u001b[0m\u001b[1;33m\u001b[0m\u001b[0m\n\u001b[0;32m    246\u001b[0m \u001b[1;33m\u001b[0m\u001b[0m\n\u001b[1;32m--> 247\u001b[1;33m     \u001b[1;32mwith\u001b[0m \u001b[0mcontextlib\u001b[0m\u001b[1;33m.\u001b[0m\u001b[0mclosing\u001b[0m\u001b[1;33m(\u001b[0m\u001b[0murlopen\u001b[0m\u001b[1;33m(\u001b[0m\u001b[0murl\u001b[0m\u001b[1;33m,\u001b[0m \u001b[0mdata\u001b[0m\u001b[1;33m)\u001b[0m\u001b[1;33m)\u001b[0m \u001b[1;32mas\u001b[0m \u001b[0mfp\u001b[0m\u001b[1;33m:\u001b[0m\u001b[1;33m\u001b[0m\u001b[1;33m\u001b[0m\u001b[0m\n\u001b[0m\u001b[0;32m    248\u001b[0m         \u001b[0mheaders\u001b[0m \u001b[1;33m=\u001b[0m \u001b[0mfp\u001b[0m\u001b[1;33m.\u001b[0m\u001b[0minfo\u001b[0m\u001b[1;33m(\u001b[0m\u001b[1;33m)\u001b[0m\u001b[1;33m\u001b[0m\u001b[1;33m\u001b[0m\u001b[0m\n\u001b[0;32m    249\u001b[0m \u001b[1;33m\u001b[0m\u001b[0m\n",
      "\u001b[1;32m~\\anaconda3\\lib\\urllib\\request.py\u001b[0m in \u001b[0;36murlopen\u001b[1;34m(url, data, timeout, cafile, capath, cadefault, context)\u001b[0m\n\u001b[0;32m    220\u001b[0m     \u001b[1;32melse\u001b[0m\u001b[1;33m:\u001b[0m\u001b[1;33m\u001b[0m\u001b[1;33m\u001b[0m\u001b[0m\n\u001b[0;32m    221\u001b[0m         \u001b[0mopener\u001b[0m \u001b[1;33m=\u001b[0m \u001b[0m_opener\u001b[0m\u001b[1;33m\u001b[0m\u001b[1;33m\u001b[0m\u001b[0m\n\u001b[1;32m--> 222\u001b[1;33m     \u001b[1;32mreturn\u001b[0m \u001b[0mopener\u001b[0m\u001b[1;33m.\u001b[0m\u001b[0mopen\u001b[0m\u001b[1;33m(\u001b[0m\u001b[0murl\u001b[0m\u001b[1;33m,\u001b[0m \u001b[0mdata\u001b[0m\u001b[1;33m,\u001b[0m \u001b[0mtimeout\u001b[0m\u001b[1;33m)\u001b[0m\u001b[1;33m\u001b[0m\u001b[1;33m\u001b[0m\u001b[0m\n\u001b[0m\u001b[0;32m    223\u001b[0m \u001b[1;33m\u001b[0m\u001b[0m\n\u001b[0;32m    224\u001b[0m \u001b[1;32mdef\u001b[0m \u001b[0minstall_opener\u001b[0m\u001b[1;33m(\u001b[0m\u001b[0mopener\u001b[0m\u001b[1;33m)\u001b[0m\u001b[1;33m:\u001b[0m\u001b[1;33m\u001b[0m\u001b[1;33m\u001b[0m\u001b[0m\n",
      "\u001b[1;32m~\\anaconda3\\lib\\urllib\\request.py\u001b[0m in \u001b[0;36mopen\u001b[1;34m(self, fullurl, data, timeout)\u001b[0m\n\u001b[0;32m    529\u001b[0m         \u001b[1;32mfor\u001b[0m \u001b[0mprocessor\u001b[0m \u001b[1;32min\u001b[0m \u001b[0mself\u001b[0m\u001b[1;33m.\u001b[0m\u001b[0mprocess_response\u001b[0m\u001b[1;33m.\u001b[0m\u001b[0mget\u001b[0m\u001b[1;33m(\u001b[0m\u001b[0mprotocol\u001b[0m\u001b[1;33m,\u001b[0m \u001b[1;33m[\u001b[0m\u001b[1;33m]\u001b[0m\u001b[1;33m)\u001b[0m\u001b[1;33m:\u001b[0m\u001b[1;33m\u001b[0m\u001b[1;33m\u001b[0m\u001b[0m\n\u001b[0;32m    530\u001b[0m             \u001b[0mmeth\u001b[0m \u001b[1;33m=\u001b[0m \u001b[0mgetattr\u001b[0m\u001b[1;33m(\u001b[0m\u001b[0mprocessor\u001b[0m\u001b[1;33m,\u001b[0m \u001b[0mmeth_name\u001b[0m\u001b[1;33m)\u001b[0m\u001b[1;33m\u001b[0m\u001b[1;33m\u001b[0m\u001b[0m\n\u001b[1;32m--> 531\u001b[1;33m             \u001b[0mresponse\u001b[0m \u001b[1;33m=\u001b[0m \u001b[0mmeth\u001b[0m\u001b[1;33m(\u001b[0m\u001b[0mreq\u001b[0m\u001b[1;33m,\u001b[0m \u001b[0mresponse\u001b[0m\u001b[1;33m)\u001b[0m\u001b[1;33m\u001b[0m\u001b[1;33m\u001b[0m\u001b[0m\n\u001b[0m\u001b[0;32m    532\u001b[0m \u001b[1;33m\u001b[0m\u001b[0m\n\u001b[0;32m    533\u001b[0m         \u001b[1;32mreturn\u001b[0m \u001b[0mresponse\u001b[0m\u001b[1;33m\u001b[0m\u001b[1;33m\u001b[0m\u001b[0m\n",
      "\u001b[1;32m~\\anaconda3\\lib\\urllib\\request.py\u001b[0m in \u001b[0;36mhttp_response\u001b[1;34m(self, request, response)\u001b[0m\n\u001b[0;32m    638\u001b[0m         \u001b[1;31m# request was successfully received, understood, and accepted.\u001b[0m\u001b[1;33m\u001b[0m\u001b[1;33m\u001b[0m\u001b[1;33m\u001b[0m\u001b[0m\n\u001b[0;32m    639\u001b[0m         \u001b[1;32mif\u001b[0m \u001b[1;32mnot\u001b[0m \u001b[1;33m(\u001b[0m\u001b[1;36m200\u001b[0m \u001b[1;33m<=\u001b[0m \u001b[0mcode\u001b[0m \u001b[1;33m<\u001b[0m \u001b[1;36m300\u001b[0m\u001b[1;33m)\u001b[0m\u001b[1;33m:\u001b[0m\u001b[1;33m\u001b[0m\u001b[1;33m\u001b[0m\u001b[0m\n\u001b[1;32m--> 640\u001b[1;33m             response = self.parent.error(\n\u001b[0m\u001b[0;32m    641\u001b[0m                 'http', request, response, code, msg, hdrs)\n\u001b[0;32m    642\u001b[0m \u001b[1;33m\u001b[0m\u001b[0m\n",
      "\u001b[1;32m~\\anaconda3\\lib\\urllib\\request.py\u001b[0m in \u001b[0;36merror\u001b[1;34m(self, proto, *args)\u001b[0m\n\u001b[0;32m    567\u001b[0m         \u001b[1;32mif\u001b[0m \u001b[0mhttp_err\u001b[0m\u001b[1;33m:\u001b[0m\u001b[1;33m\u001b[0m\u001b[1;33m\u001b[0m\u001b[0m\n\u001b[0;32m    568\u001b[0m             \u001b[0margs\u001b[0m \u001b[1;33m=\u001b[0m \u001b[1;33m(\u001b[0m\u001b[0mdict\u001b[0m\u001b[1;33m,\u001b[0m \u001b[1;34m'default'\u001b[0m\u001b[1;33m,\u001b[0m \u001b[1;34m'http_error_default'\u001b[0m\u001b[1;33m)\u001b[0m \u001b[1;33m+\u001b[0m \u001b[0morig_args\u001b[0m\u001b[1;33m\u001b[0m\u001b[1;33m\u001b[0m\u001b[0m\n\u001b[1;32m--> 569\u001b[1;33m             \u001b[1;32mreturn\u001b[0m \u001b[0mself\u001b[0m\u001b[1;33m.\u001b[0m\u001b[0m_call_chain\u001b[0m\u001b[1;33m(\u001b[0m\u001b[1;33m*\u001b[0m\u001b[0margs\u001b[0m\u001b[1;33m)\u001b[0m\u001b[1;33m\u001b[0m\u001b[1;33m\u001b[0m\u001b[0m\n\u001b[0m\u001b[0;32m    570\u001b[0m \u001b[1;33m\u001b[0m\u001b[0m\n\u001b[0;32m    571\u001b[0m \u001b[1;31m# XXX probably also want an abstract factory that knows when it makes\u001b[0m\u001b[1;33m\u001b[0m\u001b[1;33m\u001b[0m\u001b[1;33m\u001b[0m\u001b[0m\n",
      "\u001b[1;32m~\\anaconda3\\lib\\urllib\\request.py\u001b[0m in \u001b[0;36m_call_chain\u001b[1;34m(self, chain, kind, meth_name, *args)\u001b[0m\n\u001b[0;32m    500\u001b[0m         \u001b[1;32mfor\u001b[0m \u001b[0mhandler\u001b[0m \u001b[1;32min\u001b[0m \u001b[0mhandlers\u001b[0m\u001b[1;33m:\u001b[0m\u001b[1;33m\u001b[0m\u001b[1;33m\u001b[0m\u001b[0m\n\u001b[0;32m    501\u001b[0m             \u001b[0mfunc\u001b[0m \u001b[1;33m=\u001b[0m \u001b[0mgetattr\u001b[0m\u001b[1;33m(\u001b[0m\u001b[0mhandler\u001b[0m\u001b[1;33m,\u001b[0m \u001b[0mmeth_name\u001b[0m\u001b[1;33m)\u001b[0m\u001b[1;33m\u001b[0m\u001b[1;33m\u001b[0m\u001b[0m\n\u001b[1;32m--> 502\u001b[1;33m             \u001b[0mresult\u001b[0m \u001b[1;33m=\u001b[0m \u001b[0mfunc\u001b[0m\u001b[1;33m(\u001b[0m\u001b[1;33m*\u001b[0m\u001b[0margs\u001b[0m\u001b[1;33m)\u001b[0m\u001b[1;33m\u001b[0m\u001b[1;33m\u001b[0m\u001b[0m\n\u001b[0m\u001b[0;32m    503\u001b[0m             \u001b[1;32mif\u001b[0m \u001b[0mresult\u001b[0m \u001b[1;32mis\u001b[0m \u001b[1;32mnot\u001b[0m \u001b[1;32mNone\u001b[0m\u001b[1;33m:\u001b[0m\u001b[1;33m\u001b[0m\u001b[1;33m\u001b[0m\u001b[0m\n\u001b[0;32m    504\u001b[0m                 \u001b[1;32mreturn\u001b[0m \u001b[0mresult\u001b[0m\u001b[1;33m\u001b[0m\u001b[1;33m\u001b[0m\u001b[0m\n",
      "\u001b[1;32m~\\anaconda3\\lib\\urllib\\request.py\u001b[0m in \u001b[0;36mhttp_error_default\u001b[1;34m(self, req, fp, code, msg, hdrs)\u001b[0m\n\u001b[0;32m    647\u001b[0m \u001b[1;32mclass\u001b[0m \u001b[0mHTTPDefaultErrorHandler\u001b[0m\u001b[1;33m(\u001b[0m\u001b[0mBaseHandler\u001b[0m\u001b[1;33m)\u001b[0m\u001b[1;33m:\u001b[0m\u001b[1;33m\u001b[0m\u001b[1;33m\u001b[0m\u001b[0m\n\u001b[0;32m    648\u001b[0m     \u001b[1;32mdef\u001b[0m \u001b[0mhttp_error_default\u001b[0m\u001b[1;33m(\u001b[0m\u001b[0mself\u001b[0m\u001b[1;33m,\u001b[0m \u001b[0mreq\u001b[0m\u001b[1;33m,\u001b[0m \u001b[0mfp\u001b[0m\u001b[1;33m,\u001b[0m \u001b[0mcode\u001b[0m\u001b[1;33m,\u001b[0m \u001b[0mmsg\u001b[0m\u001b[1;33m,\u001b[0m \u001b[0mhdrs\u001b[0m\u001b[1;33m)\u001b[0m\u001b[1;33m:\u001b[0m\u001b[1;33m\u001b[0m\u001b[1;33m\u001b[0m\u001b[0m\n\u001b[1;32m--> 649\u001b[1;33m         \u001b[1;32mraise\u001b[0m \u001b[0mHTTPError\u001b[0m\u001b[1;33m(\u001b[0m\u001b[0mreq\u001b[0m\u001b[1;33m.\u001b[0m\u001b[0mfull_url\u001b[0m\u001b[1;33m,\u001b[0m \u001b[0mcode\u001b[0m\u001b[1;33m,\u001b[0m \u001b[0mmsg\u001b[0m\u001b[1;33m,\u001b[0m \u001b[0mhdrs\u001b[0m\u001b[1;33m,\u001b[0m \u001b[0mfp\u001b[0m\u001b[1;33m)\u001b[0m\u001b[1;33m\u001b[0m\u001b[1;33m\u001b[0m\u001b[0m\n\u001b[0m\u001b[0;32m    650\u001b[0m \u001b[1;33m\u001b[0m\u001b[0m\n\u001b[0;32m    651\u001b[0m \u001b[1;32mclass\u001b[0m \u001b[0mHTTPRedirectHandler\u001b[0m\u001b[1;33m(\u001b[0m\u001b[0mBaseHandler\u001b[0m\u001b[1;33m)\u001b[0m\u001b[1;33m:\u001b[0m\u001b[1;33m\u001b[0m\u001b[1;33m\u001b[0m\u001b[0m\n",
      "\u001b[1;31mHTTPError\u001b[0m: HTTP Error 403: Forbidden"
     ]
    }
   ],
   "source": [
    "import urllib.request\n",
    "urllib.request.urlretrieve(u, 'save.jpg')\n",
    "\n",
    "# HTTPError: HTTP Error 403: Forbidden"
   ]
  },
  {
   "cell_type": "code",
   "execution_count": 20,
   "metadata": {
    "scrolled": true
   },
   "outputs": [],
   "source": [
    "from PIL import Image\n",
    "from PIL import ImageDraw\n",
    "\n",
    "img = Image.open('drake.jpg')\n",
    "I1 = ImageDraw.Draw(img)\n",
    "\n",
    "I1.text((28, 36), \"nice Car\", fill=(0, 0, 0))\n",
    "img.save(\"saved.png\")"
   ]
  },
  {
   "cell_type": "code",
   "execution_count": 44,
   "metadata": {},
   "outputs": [],
   "source": [
    "from PIL import Image\n",
    "from PIL import ImageDraw\n",
    "from PIL import ImageFont\n",
    " \n",
    "img = Image.open('drake.jpg')\n",
    "w,h = img.size\n",
    "\n",
    "I1 = I2 = ImageDraw.Draw(img)\n",
    "myFont = ImageFont.truetype('PlayfairDisplaySC-Bold.otf', 65)\n",
    " \n",
    "text1 = '''\n",
    "Pay\n",
    "for \n",
    "Movie\n",
    "'''\n",
    "text2 = '''\n",
    "Use\n",
    "Telegram\n",
    "'''\n",
    "\n",
    "I1.text((100 + w/2, h/4 - 200), text1, font=myFont, fill =(0, 0, 0))\n",
    "I2.text((100 + w/2, h*3/4 - 200), text2, font=myFont, fill =(0, 0, 0))\n",
    "\n",
    "# img.show()\n",
    "img.save(\"news.png\")"
   ]
  },
  {
   "cell_type": "code",
   "execution_count": null,
   "metadata": {},
   "outputs": [],
   "source": []
  }
 ],
 "metadata": {
  "kernelspec": {
   "display_name": "Python 3",
   "language": "python",
   "name": "python3"
  },
  "language_info": {
   "codemirror_mode": {
    "name": "ipython",
    "version": 3
   },
   "file_extension": ".py",
   "mimetype": "text/x-python",
   "name": "python",
   "nbconvert_exporter": "python",
   "pygments_lexer": "ipython3",
   "version": "3.8.3"
  }
 },
 "nbformat": 4,
 "nbformat_minor": 4
}
