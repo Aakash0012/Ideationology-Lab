{
 "cells": [
  {
   "cell_type": "markdown",
   "metadata": {
    "id": "GfXFwHZs6f3i"
   },
   "source": [
    "# <center> Assignment</center>"
   ]
  },
  {
   "cell_type": "markdown",
   "metadata": {
    "id": "anCtZQI76f3k"
   },
   "source": [
    "**1. Check if the String contains only numbers**"
   ]
  },
  {
   "cell_type": "code",
   "execution_count": 5,
   "metadata": {
    "id": "nbKqMK586f3l"
   },
   "outputs": [],
   "source": [
    "s = '8000'"
   ]
  },
  {
   "cell_type": "markdown",
   "metadata": {
    "id": "mJ5vueQe6f3m"
   },
   "source": [
    "Expected Output = True"
   ]
  },
  {
   "cell_type": "code",
   "execution_count": 6,
   "metadata": {
    "colab": {
     "base_uri": "https://localhost:8080/"
    },
    "id": "RE2nm_oq6xO_",
    "outputId": "47e67471-32ae-424a-a1c3-87fb2d598e32"
   },
   "outputs": [
    {
     "data": {
      "text/plain": [
       "True"
      ]
     },
     "execution_count": 6,
     "metadata": {},
     "output_type": "execute_result"
    }
   ],
   "source": [
    "# it is already solved for you...\n",
    "\n",
    "s.isdigit()"
   ]
  },
  {
   "cell_type": "markdown",
   "metadata": {
    "id": "gp1Us8ao6f3n"
   },
   "source": [
    "**2. Check if the string is compose of all lower characters**"
   ]
  },
  {
   "cell_type": "code",
   "execution_count": 11,
   "metadata": {
    "id": "nafrN-pe6f3n"
   },
   "outputs": [],
   "source": [
    "d = 'loweRcase'"
   ]
  },
  {
   "cell_type": "markdown",
   "metadata": {
    "id": "rLhZb_eu6f3o"
   },
   "source": [
    "Expected Output = False"
   ]
  },
  {
   "cell_type": "code",
   "execution_count": 12,
   "metadata": {
    "colab": {
     "base_uri": "https://localhost:8080/"
    },
    "id": "yiLfwwd369Iu",
    "outputId": "1aef005a-0ea5-475c-a074-68ed016d7a91"
   },
   "outputs": [
    {
     "data": {
      "text/plain": [
       "False"
      ]
     },
     "execution_count": 12,
     "metadata": {},
     "output_type": "execute_result"
    }
   ],
   "source": [
    "d.islower() "
   ]
  },
  {
   "cell_type": "markdown",
   "metadata": {
    "id": "8H_TNDeG6f3p"
   },
   "source": [
    "**3. Check if the first character in a string is lowercase**"
   ]
  },
  {
   "cell_type": "code",
   "execution_count": 13,
   "metadata": {
    "id": "1JfoaZdI6f3q"
   },
   "outputs": [],
   "source": [
    "a = 'aPPlE'"
   ]
  },
  {
   "cell_type": "markdown",
   "metadata": {
    "id": "r6saCPA86f3q"
   },
   "source": [
    "Expected Output = True"
   ]
  },
  {
   "cell_type": "code",
   "execution_count": 19,
   "metadata": {
    "colab": {
     "base_uri": "https://localhost:8080/"
    },
    "id": "wR-D08x-7B3z",
    "outputId": "9d02eb93-9702-4904-a8a5-ef50fc84bfff"
   },
   "outputs": [
    {
     "data": {
      "text/plain": [
       "True"
      ]
     },
     "execution_count": 19,
     "metadata": {},
     "output_type": "execute_result"
    }
   ],
   "source": [
    "a[0].islower()"
   ]
  },
  {
   "cell_type": "markdown",
   "metadata": {
    "id": "2fO_yvU46f3r"
   },
   "source": [
    "**4. Join a list of strings into a single string, delimited by hyphens**"
   ]
  },
  {
   "cell_type": "code",
   "execution_count": 21,
   "metadata": {
    "id": "hNMP32JT6f3r"
   },
   "outputs": [],
   "source": [
    "string_list = ['a','b','c']"
   ]
  },
  {
   "cell_type": "markdown",
   "metadata": {
    "id": "Ike9SBXb6f3s"
   },
   "source": [
    "Expected Output = 'a-b-c'"
   ]
  },
  {
   "cell_type": "code",
   "execution_count": 23,
   "metadata": {
    "colab": {
     "base_uri": "https://localhost:8080/",
     "height": 35
    },
    "id": "5DH-30O37NG7",
    "outputId": "af7e75be-78f4-48b6-df3a-31330211192a"
   },
   "outputs": [
    {
     "data": {
      "text/plain": [
       "'a-b-c'"
      ]
     },
     "execution_count": 23,
     "metadata": {},
     "output_type": "execute_result"
    }
   ],
   "source": [
    "'-'.join(string_list)"
   ]
  },
  {
   "cell_type": "markdown",
   "metadata": {
    "id": "01rSsfaT6f3s"
   },
   "source": [
    "**5. Write a program to display the last digit of the number given**"
   ]
  },
  {
   "cell_type": "code",
   "execution_count": 24,
   "metadata": {
    "id": "FRvcrHoA6f3s"
   },
   "outputs": [],
   "source": [
    "number = 2345"
   ]
  },
  {
   "cell_type": "markdown",
   "metadata": {
    "id": "3yesEFlv6f3t"
   },
   "source": [
    "Expected Output = 5"
   ]
  },
  {
   "cell_type": "code",
   "execution_count": 29,
   "metadata": {
    "colab": {
     "base_uri": "https://localhost:8080/"
    },
    "id": "XF_KD2qS7Xkd",
    "outputId": "1e42259f-5457-4b44-b2b7-9d86cd6dcce7"
   },
   "outputs": [
    {
     "data": {
      "text/plain": [
       "5"
      ]
     },
     "execution_count": 29,
     "metadata": {},
     "output_type": "execute_result"
    }
   ],
   "source": [
    "number%10"
   ]
  },
  {
   "cell_type": "markdown",
   "metadata": {
    "id": "bw22eJih6f3t"
   },
   "source": [
    "**6. Given a number count the total number of digits in a number**"
   ]
  },
  {
   "cell_type": "code",
   "execution_count": 33,
   "metadata": {
    "id": "sshVkb0X6f3t"
   },
   "outputs": [],
   "source": [
    "number = 7567869"
   ]
  },
  {
   "cell_type": "markdown",
   "metadata": {
    "id": "34PS3U926f3t"
   },
   "source": [
    "Expected Output = 5"
   ]
  },
  {
   "cell_type": "code",
   "execution_count": 35,
   "metadata": {
    "colab": {
     "base_uri": "https://localhost:8080/"
    },
    "id": "QyM0tagx7fx8",
    "outputId": "eb571e9b-2ad6-4223-ebb8-a5157443baba"
   },
   "outputs": [
    {
     "name": "stdout",
     "output_type": "stream",
     "text": [
      "7567869\n"
     ]
    },
    {
     "data": {
      "text/plain": [
       "7"
      ]
     },
     "execution_count": 35,
     "metadata": {},
     "output_type": "execute_result"
    }
   ],
   "source": [
    "s = str(number)\n",
    "print(s)\n",
    "len(s)"
   ]
  },
  {
   "cell_type": "markdown",
   "metadata": {
    "id": "QErF5VA06f3u"
   },
   "source": [
    "**7. Reverse the following List using for loop**"
   ]
  },
  {
   "cell_type": "code",
   "execution_count": 36,
   "metadata": {
    "id": "9ZVh9jVU6f3u"
   },
   "outputs": [],
   "source": [
    "List = [10, 40, 160, 320]"
   ]
  },
  {
   "cell_type": "markdown",
   "metadata": {
    "id": "mR8bAzwR6f3u"
   },
   "source": [
    "Expected Output = [320, 160, 40, 10]"
   ]
  },
  {
   "cell_type": "code",
   "execution_count": 39,
   "metadata": {
    "colab": {
     "base_uri": "https://localhost:8080/"
    },
    "id": "1NB6ZREU7nok",
    "outputId": "20762e53-7ce2-47ad-ac18-ba499f71faa3"
   },
   "outputs": [
    {
     "data": {
      "text/plain": [
       "[320, 160, 40, 10]"
      ]
     },
     "execution_count": 39,
     "metadata": {},
     "output_type": "execute_result"
    }
   ],
   "source": [
    "l = []\n",
    "for i in List[::-1]:\n",
    "    l.append(i)\n",
    "l"
   ]
  },
  {
   "cell_type": "markdown",
   "metadata": {
    "id": "bfhvIKVF6f3v"
   },
   "source": [
    "**8. Display Numbers from -10 to 1 using for loop in a list**"
   ]
  },
  {
   "cell_type": "markdown",
   "metadata": {
    "id": "TGPOEHrH6f3v"
   },
   "source": [
    "Expected Output = [-10, -9, -8, -7, -6, -5, -4, -3, -2, -1]"
   ]
  },
  {
   "cell_type": "code",
   "execution_count": 42,
   "metadata": {
    "colab": {
     "base_uri": "https://localhost:8080/"
    },
    "id": "q4sa6uW-6f3v",
    "outputId": "3f5b81ab-809e-4f51-9a4c-b3206a356a4d"
   },
   "outputs": [
    {
     "name": "stdout",
     "output_type": "stream",
     "text": [
      "-10\n",
      "-9\n",
      "-8\n",
      "-7\n",
      "-6\n",
      "-5\n",
      "-4\n",
      "-3\n",
      "-2\n",
      "-1\n",
      "0\n",
      "1\n"
     ]
    }
   ],
   "source": [
    "for i in range(-10, 2):\n",
    "    print(i)"
   ]
  },
  {
   "cell_type": "markdown",
   "metadata": {
    "id": "dNNLYCYz6f3v"
   },
   "source": [
    "**9. Write a program to check whether a number is divisible by 7 or not**"
   ]
  },
  {
   "cell_type": "code",
   "execution_count": 45,
   "metadata": {
    "colab": {
     "base_uri": "https://localhost:8080/"
    },
    "id": "00Rzq9T86f3w",
    "outputId": "1a645489-6c8c-43ef-c57d-53af132592a5"
   },
   "outputs": [
    {
     "name": "stdout",
     "output_type": "stream",
     "text": [
      "Yes, Divisible by 7\n"
     ]
    }
   ],
   "source": [
    "# it is already solved for you...\n",
    "\n",
    "num = 49\n",
    "\n",
    "if num % 7 == 0:\n",
    "    print('Yes, Divisible by 7')\n",
    "else:\n",
    "    print('Not Divisible by 7')"
   ]
  },
  {
   "cell_type": "markdown",
   "metadata": {
    "id": "nSphD1UA6f3w"
   },
   "source": [
    "**10. Print the sum of first 5 Natural Numbers using loop**"
   ]
  },
  {
   "cell_type": "markdown",
   "metadata": {
    "id": "fX527DWc6f3w"
   },
   "source": [
    "Expected Output = 15"
   ]
  },
  {
   "cell_type": "code",
   "execution_count": 48,
   "metadata": {
    "colab": {
     "base_uri": "https://localhost:8080/"
    },
    "id": "rDzpIPkj6f3w",
    "outputId": "26d505a0-8bf0-4219-c68d-3a49fdfb69a3"
   },
   "outputs": [
    {
     "data": {
      "text/plain": [
       "15"
      ]
     },
     "execution_count": 48,
     "metadata": {},
     "output_type": "execute_result"
    }
   ],
   "source": [
    "s = 0\n",
    "for i in range(1, 6):\n",
    "    s += i\n",
    "s"
   ]
  },
  {
   "cell_type": "markdown",
   "metadata": {
    "id": "TO0EKloi6f3x"
   },
   "source": [
    "Note: The Notebook is only for practice purpose, created by Vicky Kumar"
   ]
  }
 ],
 "metadata": {
  "colab": {
   "collapsed_sections": [],
   "include_colab_link": true,
   "name": "Functions_Loops_Conditions_Strings.ipynb",
   "provenance": []
  },
  "kernelspec": {
   "display_name": "Python 3",
   "language": "python",
   "name": "python3"
  },
  "language_info": {
   "codemirror_mode": {
    "name": "ipython",
    "version": 3
   },
   "file_extension": ".py",
   "mimetype": "text/x-python",
   "name": "python",
   "nbconvert_exporter": "python",
   "pygments_lexer": "ipython3",
   "version": "3.8.3"
  }
 },
 "nbformat": 4,
 "nbformat_minor": 5
}
