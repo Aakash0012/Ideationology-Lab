{
 "cells": [
  {
   "cell_type": "code",
   "execution_count": 8,
   "metadata": {},
   "outputs": [
    {
     "name": "stdout",
     "output_type": "stream",
     "text": [
      "Enter number to add : 6\n",
      "Enter number to add : 4\n",
      "Enter number to add : 8\n",
      "Enter number to add : 0\n",
      "\n",
      "Sum = 18.0\n"
     ]
    }
   ],
   "source": [
    "a = True\n",
    "s = 0\n",
    "\n",
    "while a:\n",
    "    a = float(input('Enter number to add : '))\n",
    "    s += a\n",
    "\n",
    "print(f'\\nSum = {s}')"
   ]
  },
  {
   "cell_type": "code",
   "execution_count": 2,
   "metadata": {
    "scrolled": true
   },
   "outputs": [
    {
     "name": "stdout",
     "output_type": "stream",
     "text": [
      "Enter s : 3\n",
      "Enter expression : +6\n",
      "\n",
      "Sum = 9.0\n",
      "Enter expression : +0\n",
      "\n",
      "Sum = 9.0\n"
     ]
    }
   ],
   "source": [
    "a = '01'\n",
    "s = float(input('Enter s : '))\n",
    "\n",
    "while float(a[1:]):\n",
    "    a = input('Enter expression : ')\n",
    "    \n",
    "    if a[0] == '+':\n",
    "        s += float(a[1:])\n",
    "        \n",
    "    elif a[0] == '-':\n",
    "        s -= float(a[1:])\n",
    "        \n",
    "    elif a[0] == '*':\n",
    "        s *= float(a[1:])\n",
    "        \n",
    "    elif a[0] == '/':\n",
    "        s /= float(a[1:])\n",
    "        \n",
    "    else:\n",
    "        break\n",
    "        \n",
    "    print(f'\\nSum = {s}')"
   ]
  },
  {
   "cell_type": "code",
   "execution_count": 1,
   "metadata": {},
   "outputs": [
    {
     "data": {
      "text/plain": [
       "45.0"
      ]
     },
     "execution_count": 1,
     "metadata": {},
     "output_type": "execute_result"
    }
   ],
   "source": [
    "a = '*45'\n",
    "float(a[1:])"
   ]
  },
  {
   "cell_type": "code",
   "execution_count": 31,
   "metadata": {},
   "outputs": [],
   "source": [
    "class Bank_Account:\n",
    "    \n",
    "    def __init__(self, balance = 0):\n",
    "        self.balance = balance\n",
    "        print(\"Hello!!! Welcome to the Deposit & Withdrawal Machine\")\n",
    "\n",
    "    def deposit(self, amount):\n",
    "        self.balance += amount\n",
    "        print(\"\\n Amount Deposited:\", amount)\n",
    "        self.display()\n",
    "\n",
    "    def withdraw(self, amount):\n",
    "        if self.balance>=amount:\n",
    "            self.balance-=amount\n",
    "            print(\"\\n You Withdrew:\", amount)\n",
    "        else:\n",
    "            print(\"\\n Insufficient balance \")\n",
    "        self.display()\n",
    "        \n",
    "    def display(self):\n",
    "        print(\"\\n Net Available Balance=\", self.balance) "
   ]
  },
  {
   "cell_type": "code",
   "execution_count": 40,
   "metadata": {},
   "outputs": [
    {
     "name": "stdout",
     "output_type": "stream",
     "text": [
      "Hello!!! Welcome to the Deposit & Withdrawal Machine\n"
     ]
    },
    {
     "data": {
      "text/plain": [
       "<__main__.Bank_Account at 0x2d999f61ee0>"
      ]
     },
     "execution_count": 40,
     "metadata": {},
     "output_type": "execute_result"
    }
   ],
   "source": [
    "obj = Bank_Account(6000)\n",
    "obj"
   ]
  },
  {
   "cell_type": "code",
   "execution_count": 34,
   "metadata": {},
   "outputs": [
    {
     "name": "stdout",
     "output_type": "stream",
     "text": [
      "\n",
      " Amount Deposited: 25000\n",
      "\n",
      " Net Available Balance= 31000\n"
     ]
    }
   ],
   "source": [
    "obj.deposit(25000)"
   ]
  },
  {
   "cell_type": "code",
   "execution_count": 36,
   "metadata": {},
   "outputs": [
    {
     "name": "stdout",
     "output_type": "stream",
     "text": [
      "\n",
      " You Withdrew: 6000\n",
      "\n",
      " Net Available Balance= 25000\n"
     ]
    }
   ],
   "source": [
    "obj.withdraw(6000)"
   ]
  },
  {
   "cell_type": "code",
   "execution_count": 41,
   "metadata": {},
   "outputs": [
    {
     "name": "stdout",
     "output_type": "stream",
     "text": [
      "\n",
      " Insufficient balance \n",
      "\n",
      " Net Available Balance= 25000\n"
     ]
    }
   ],
   "source": [
    "obj.withdraw(50000)"
   ]
  },
  {
   "cell_type": "code",
   "execution_count": null,
   "metadata": {},
   "outputs": [],
   "source": []
  }
 ],
 "metadata": {
  "kernelspec": {
   "display_name": "Python 3",
   "language": "python",
   "name": "python3"
  },
  "language_info": {
   "codemirror_mode": {
    "name": "ipython",
    "version": 3
   },
   "file_extension": ".py",
   "mimetype": "text/x-python",
   "name": "python",
   "nbconvert_exporter": "python",
   "pygments_lexer": "ipython3",
   "version": "3.8.3"
  }
 },
 "nbformat": 4,
 "nbformat_minor": 4
}
