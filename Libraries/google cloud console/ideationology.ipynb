{
 "cells": [
  {
   "cell_type": "code",
   "execution_count": 2,
   "metadata": {},
   "outputs": [],
   "source": [
    "# https://github.com/imvickykumar999/gspread#updating-cells"
   ]
  },
  {
   "cell_type": "code",
   "execution_count": 3,
   "metadata": {},
   "outputs": [],
   "source": [
    "from oauth2client.service_account import ServiceAccountCredentials as sac"
   ]
  },
  {
   "cell_type": "code",
   "execution_count": 4,
   "metadata": {},
   "outputs": [],
   "source": [
    "scope = ['https://spreadsheets.google.com/feeds',\n",
    "         'https://www.googleapis.com/auth/drive']"
   ]
  },
  {
   "cell_type": "code",
   "execution_count": 6,
   "metadata": {},
   "outputs": [],
   "source": [
    "jfile = 'ideationology-lab-b60654e44e37.json'"
   ]
  },
  {
   "cell_type": "code",
   "execution_count": 7,
   "metadata": {},
   "outputs": [
    {
     "data": {
      "text/plain": [
       "<oauth2client.service_account.ServiceAccountCredentials at 0x2852d9c18b0>"
      ]
     },
     "execution_count": 7,
     "metadata": {},
     "output_type": "execute_result"
    }
   ],
   "source": [
    "creds = sac.from_json_keyfile_name(jfile, scope)\n",
    "creds"
   ]
  },
  {
   "cell_type": "code",
   "execution_count": 8,
   "metadata": {},
   "outputs": [],
   "source": [
    "import gspread"
   ]
  },
  {
   "cell_type": "code",
   "execution_count": 9,
   "metadata": {},
   "outputs": [
    {
     "data": {
      "text/plain": [
       "<gspread.client.Client at 0x2852f42f340>"
      ]
     },
     "execution_count": 9,
     "metadata": {},
     "output_type": "execute_result"
    }
   ],
   "source": [
    "client = gspread.authorize(creds)\n",
    "client"
   ]
  },
  {
   "cell_type": "code",
   "execution_count": 18,
   "metadata": {},
   "outputs": [],
   "source": [
    "# help(client)"
   ]
  },
  {
   "cell_type": "code",
   "execution_count": 15,
   "metadata": {},
   "outputs": [
    {
     "data": {
      "text/plain": [
       "'https://docs.google.com/spreadsheets/d/1iJ2bRgXew6PCdSJ5XIWxJ7ZLbRo1OQ0OdOmOoa-P6O0/edit#gid=1943763034'"
      ]
     },
     "execution_count": 15,
     "metadata": {},
     "output_type": "execute_result"
    }
   ],
   "source": [
    "url = 'https://docs.google.com/spreadsheets/d/1iJ2bRgXew6PCdSJ5XIWxJ7ZLbRo1OQ0OdOmOoa-P6O0/edit#gid=1943763034'   \n",
    "url"
   ]
  },
  {
   "cell_type": "code",
   "execution_count": 16,
   "metadata": {
    "scrolled": true
   },
   "outputs": [
    {
     "data": {
      "text/plain": [
       "<Spreadsheet 'Event Registration (Responses)' id:1iJ2bRgXew6PCdSJ5XIWxJ7ZLbRo1OQ0OdOmOoa-P6O0>"
      ]
     },
     "execution_count": 16,
     "metadata": {},
     "output_type": "execute_result"
    }
   ],
   "source": [
    "sheet = client.open_by_url(url) \n",
    "sheet"
   ]
  },
  {
   "cell_type": "code",
   "execution_count": 19,
   "metadata": {
    "scrolled": true
   },
   "outputs": [
    {
     "name": "stdout",
     "output_type": "stream",
     "text": [
      "ideationology@ideationology-lab.iam.gserviceaccount.com\n",
      "cs.shalini@rietjaipur.ac.in\n",
      "dheerajgehlot051@gmail.com\n",
      "imvickykumar999@gmail.com\n",
      "ideationology@ideationology-lab-339220.iam.gserviceaccount.com\n",
      "surajgazi100@gmail.com\n",
      "joydip8764896142dutta@gmail.com\n"
     ]
    }
   ],
   "source": [
    "for i in sheet.list_permissions():\n",
    "    print(i['emailAddress'])"
   ]
  },
  {
   "cell_type": "code",
   "execution_count": 20,
   "metadata": {},
   "outputs": [
    {
     "data": {
      "text/plain": [
       "<Worksheet 'Form Responses 1' id:1943763034>"
      ]
     },
     "execution_count": 20,
     "metadata": {},
     "output_type": "execute_result"
    }
   ],
   "source": [
    "sheet_instance = sheet.get_worksheet(0)\n",
    "sheet_instance"
   ]
  },
  {
   "cell_type": "code",
   "execution_count": 24,
   "metadata": {},
   "outputs": [],
   "source": [
    "records_data = sheet_instance.get_all_records()\n",
    "# records_data"
   ]
  },
  {
   "cell_type": "code",
   "execution_count": 25,
   "metadata": {},
   "outputs": [
    {
     "data": {
      "text/html": [
       "<div>\n",
       "<style scoped>\n",
       "    .dataframe tbody tr th:only-of-type {\n",
       "        vertical-align: middle;\n",
       "    }\n",
       "\n",
       "    .dataframe tbody tr th {\n",
       "        vertical-align: top;\n",
       "    }\n",
       "\n",
       "    .dataframe thead th {\n",
       "        text-align: right;\n",
       "    }\n",
       "</style>\n",
       "<table border=\"1\" class=\"dataframe\">\n",
       "  <thead>\n",
       "    <tr style=\"text-align: right;\">\n",
       "      <th></th>\n",
       "      <th>Timestamp</th>\n",
       "      <th>FULL NAME ( Team Leader )</th>\n",
       "      <th>EMAIL ID ( Team Leader )</th>\n",
       "      <th>Contact Number ( Team Leader )</th>\n",
       "      <th>What is your skill level ?</th>\n",
       "      <th>College Name ( All team members must belong from same College )</th>\n",
       "      <th>Team Size ( In between 2 members to 4 members )</th>\n",
       "      <th>Full Name ( Member 1 )</th>\n",
       "      <th>Contact Number ( Member 1 )</th>\n",
       "      <th>Full Name ( Member 2 )</th>\n",
       "      <th>Contact Number ( Member 2 )</th>\n",
       "      <th>Full Name ( Member 3 )</th>\n",
       "      <th>Contact Number ( Member 3 )</th>\n",
       "      <th>Any Question ? ( Feel free to Ask )</th>\n",
       "      <th>Team Name</th>\n",
       "      <th>Address of College with State</th>\n",
       "      <th>Email Address</th>\n",
       "      <th>Upload Your Idea ( PPT or PDF Format )</th>\n",
       "    </tr>\n",
       "  </thead>\n",
       "  <tbody>\n",
       "    <tr>\n",
       "      <th>0</th>\n",
       "      <td>6/11/2021 13:54:02</td>\n",
       "      <td>Omjee yadav</td>\n",
       "      <td>omjeeyadav563@gmail.com</td>\n",
       "      <td>9694903744</td>\n",
       "      <td>Intermediate</td>\n",
       "      <td>Rajasthan institute of engineering and technology</td>\n",
       "      <td>2</td>\n",
       "      <td>omjee yadav</td>\n",
       "      <td>9694903744</td>\n",
       "      <td>Devendra suthar</td>\n",
       "      <td>7297074654</td>\n",
       "      <td></td>\n",
       "      <td></td>\n",
       "      <td>No</td>\n",
       "      <td></td>\n",
       "      <td></td>\n",
       "      <td></td>\n",
       "      <td></td>\n",
       "    </tr>\n",
       "    <tr>\n",
       "      <th>1</th>\n",
       "      <td>6/11/2021 13:54:49</td>\n",
       "      <td>Ashish Kumar</td>\n",
       "      <td>Ashish99anonymous@gmail.com</td>\n",
       "      <td>7568441216</td>\n",
       "      <td>Intermediate</td>\n",
       "      <td>Rajasthan Institute of engineering and technology</td>\n",
       "      <td>4</td>\n",
       "      <td>Himanshu singh</td>\n",
       "      <td>7017327841</td>\n",
       "      <td>Tushar kottak</td>\n",
       "      <td></td>\n",
       "      <td>Mahipal pareek</td>\n",
       "      <td></td>\n",
       "      <td></td>\n",
       "      <td></td>\n",
       "      <td></td>\n",
       "      <td></td>\n",
       "      <td></td>\n",
       "    </tr>\n",
       "    <tr>\n",
       "      <th>2</th>\n",
       "      <td>6/11/2021 16:28:27</td>\n",
       "      <td>Rajdeep Singh</td>\n",
       "      <td>19ERECS055.rajdeep@rietjaipur.ac.in</td>\n",
       "      <td>8090644763</td>\n",
       "      <td>Intermediate</td>\n",
       "      <td>RIET</td>\n",
       "      <td>4</td>\n",
       "      <td>Badal Chaudhary</td>\n",
       "      <td>99874 88458</td>\n",
       "      <td>Vidhikar Vishal</td>\n",
       "      <td>9354057446</td>\n",
       "      <td>Udit Narayan</td>\n",
       "      <td>6396835257</td>\n",
       "      <td></td>\n",
       "      <td></td>\n",
       "      <td></td>\n",
       "      <td></td>\n",
       "      <td></td>\n",
       "    </tr>\n",
       "    <tr>\n",
       "      <th>3</th>\n",
       "      <td>6/11/2021 17:52:09</td>\n",
       "      <td>Sanju Sharma</td>\n",
       "      <td>Sanjusharma14021999@gmail.com</td>\n",
       "      <td>7221085880</td>\n",
       "      <td>Beginner</td>\n",
       "      <td>Rajasthan institute of engineering and technol...</td>\n",
       "      <td>2</td>\n",
       "      <td>Sanju sharma</td>\n",
       "      <td>7221085880</td>\n",
       "      <td>Saransh soni</td>\n",
       "      <td></td>\n",
       "      <td></td>\n",
       "      <td></td>\n",
       "      <td>No</td>\n",
       "      <td>Donjo</td>\n",
       "      <td>Jaipur 302021</td>\n",
       "      <td></td>\n",
       "      <td></td>\n",
       "    </tr>\n",
       "    <tr>\n",
       "      <th>4</th>\n",
       "      <td>6/11/2021 20:24:43</td>\n",
       "      <td>Ashish Kumar</td>\n",
       "      <td>ashish99anonymous@gmail.com</td>\n",
       "      <td>7568441216</td>\n",
       "      <td>Intermediate</td>\n",
       "      <td>Rajasthan Institute of Engineering and Technology</td>\n",
       "      <td>4</td>\n",
       "      <td>Sagar Jahangid</td>\n",
       "      <td>8058771157</td>\n",
       "      <td>mahipal pareek</td>\n",
       "      <td></td>\n",
       "      <td>Ayush saini</td>\n",
       "      <td>8109004947</td>\n",
       "      <td></td>\n",
       "      <td>cyberpunk</td>\n",
       "      <td>Rajasthan Institute of Engineering and Technol...</td>\n",
       "      <td></td>\n",
       "      <td></td>\n",
       "    </tr>\n",
       "  </tbody>\n",
       "</table>\n",
       "</div>"
      ],
      "text/plain": [
       "            Timestamp FULL NAME ( Team Leader )  \\\n",
       "0  6/11/2021 13:54:02               Omjee yadav   \n",
       "1  6/11/2021 13:54:49              Ashish Kumar   \n",
       "2  6/11/2021 16:28:27             Rajdeep Singh   \n",
       "3  6/11/2021 17:52:09             Sanju Sharma    \n",
       "4  6/11/2021 20:24:43              Ashish Kumar   \n",
       "\n",
       "              EMAIL ID ( Team Leader ) Contact Number ( Team Leader )  \\\n",
       "0              omjeeyadav563@gmail.com                     9694903744   \n",
       "1          Ashish99anonymous@gmail.com                     7568441216   \n",
       "2  19ERECS055.rajdeep@rietjaipur.ac.in                     8090644763   \n",
       "3        Sanjusharma14021999@gmail.com                     7221085880   \n",
       "4          ashish99anonymous@gmail.com                     7568441216   \n",
       "\n",
       "  What is your skill level ?  \\\n",
       "0               Intermediate   \n",
       "1               Intermediate   \n",
       "2               Intermediate   \n",
       "3                   Beginner   \n",
       "4               Intermediate   \n",
       "\n",
       "  College Name ( All team members must belong from same College )  \\\n",
       "0  Rajasthan institute of engineering and technology                \n",
       "1  Rajasthan Institute of engineering and technology                \n",
       "2                                               RIET                \n",
       "3  Rajasthan institute of engineering and technol...                \n",
       "4  Rajasthan Institute of Engineering and Technology                \n",
       "\n",
       "  Team Size ( In between 2 members to 4 members ) Full Name ( Member 1 )  \\\n",
       "0                                               2            omjee yadav   \n",
       "1                                               4         Himanshu singh   \n",
       "2                                               4        Badal Chaudhary   \n",
       "3                                               2           Sanju sharma   \n",
       "4                                               4         Sagar Jahangid   \n",
       "\n",
       "  Contact Number ( Member 1 ) Full Name ( Member 2 )  \\\n",
       "0                  9694903744        Devendra suthar   \n",
       "1                  7017327841          Tushar kottak   \n",
       "2                 99874 88458        Vidhikar Vishal   \n",
       "3                  7221085880           Saransh soni   \n",
       "4                  8058771157         mahipal pareek   \n",
       "\n",
       "  Contact Number ( Member 2 ) Full Name ( Member 3 )  \\\n",
       "0                  7297074654                          \n",
       "1                                     Mahipal pareek   \n",
       "2                  9354057446           Udit Narayan   \n",
       "3                                                      \n",
       "4                                        Ayush saini   \n",
       "\n",
       "  Contact Number ( Member 3 ) Any Question ? ( Feel free to Ask )   Team Name  \\\n",
       "0                                                               No              \n",
       "1                                                                               \n",
       "2                  6396835257                                                   \n",
       "3                                                               No      Donjo   \n",
       "4                  8109004947                                       cyberpunk   \n",
       "\n",
       "                       Address of College with State Email Address  \\\n",
       "0                                                                    \n",
       "1                                                                    \n",
       "2                                                                    \n",
       "3                                     Jaipur 302021                  \n",
       "4  Rajasthan Institute of Engineering and Technol...                 \n",
       "\n",
       "  Upload Your Idea ( PPT or PDF Format )  \n",
       "0                                         \n",
       "1                                         \n",
       "2                                         \n",
       "3                                         \n",
       "4                                         "
      ]
     },
     "execution_count": 25,
     "metadata": {},
     "output_type": "execute_result"
    }
   ],
   "source": [
    "import pandas as pd\n",
    "\n",
    "records_df = pd.DataFrame.from_dict(records_data)\n",
    "records_df.head()"
   ]
  },
  {
   "cell_type": "code",
   "execution_count": 23,
   "metadata": {},
   "outputs": [],
   "source": [
    "name = 'Event Registration (Responses)'\n",
    "records_df.to_csv(name + '.csv') "
   ]
  },
  {
   "cell_type": "code",
   "execution_count": null,
   "metadata": {},
   "outputs": [],
   "source": []
  }
 ],
 "metadata": {
  "kernelspec": {
   "display_name": "Python 3",
   "language": "python",
   "name": "python3"
  },
  "language_info": {
   "codemirror_mode": {
    "name": "ipython",
    "version": 3
   },
   "file_extension": ".py",
   "mimetype": "text/x-python",
   "name": "python",
   "nbconvert_exporter": "python",
   "pygments_lexer": "ipython3",
   "version": "3.8.3"
  }
 },
 "nbformat": 4,
 "nbformat_minor": 4
}
