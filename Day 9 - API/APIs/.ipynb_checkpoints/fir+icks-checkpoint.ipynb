{
 "cells": [
  {
   "cell_type": "markdown",
   "metadata": {},
   "source": [
    "[![Typing SVG](http://readme-typing-svg.herokuapp.com?color=%2336BCF7&lines=pip+install+firicks)](https://pypi.org/project/firicks/)"
   ]
  },
  {
   "cell_type": "code",
   "execution_count": 2,
   "metadata": {},
   "outputs": [
    {
     "name": "stdout",
     "output_type": "stream",
     "text": [
      "Requirement already satisfied: firicks in c:\\users\\vicky\\anaconda3\\lib\\site-packages (0.0.1)\n"
     ]
    }
   ],
   "source": [
    "# Firebase + Vicks = Fir.ebase + V.icks - ebase+V = Fir.icks\n",
    "# !pip install firicks"
   ]
  },
  {
   "cell_type": "code",
   "execution_count": 3,
   "metadata": {},
   "outputs": [
    {
     "data": {
      "text/plain": [
       "<module 'vicks' from 'C:\\\\Users\\\\Vicky\\\\anaconda3\\\\lib\\\\site-packages\\\\vicks\\\\__init__.py'>"
      ]
     },
     "execution_count": 3,
     "metadata": {},
     "output_type": "execute_result"
    }
   ],
   "source": [
    "import vicks\n",
    "vicks"
   ]
  },
  {
   "cell_type": "code",
   "execution_count": 4,
   "metadata": {
    "scrolled": true
   },
   "outputs": [
    {
     "name": "stdout",
     "output_type": "stream",
     "text": [
      "Help on package vicks:\n",
      "\n",
      "NAME\n",
      "    vicks\n",
      "\n",
      "PACKAGE CONTENTS\n",
      "    account\n",
      "    async_fb\n",
      "    decorators\n",
      "    firebase\n",
      "    firebase_token_generator\n",
      "    jsonutil\n",
      "    lazy\n",
      "\n",
      "FUNCTIONS\n",
      "    close_process_pool()\n",
      "        Clean up function that closes and terminates the process pool\n",
      "        defined in the ``async`` file.\n",
      "\n",
      "DATA\n",
      "    process_pool = <multiprocessing.pool.Pool state=RUN pool_size=5>\n",
      "\n",
      "FILE\n",
      "    c:\\users\\vicky\\anaconda3\\lib\\site-packages\\vicks\\__init__.py\n",
      "\n",
      "\n"
     ]
    }
   ],
   "source": [
    "help(vicks) "
   ]
  },
  {
   "cell_type": "markdown",
   "metadata": {},
   "source": [
    "## [Realtime Database](https://console.firebase.google.com/u/0/project/vickservice-36ac9/database/vickservice-36ac9-default-rtdb/data)"
   ]
  },
  {
   "cell_type": "code",
   "execution_count": 5,
   "metadata": {},
   "outputs": [
    {
     "data": {
      "text/plain": [
       "<module 'vicks.firebase' from 'C:\\\\Users\\\\Vicky\\\\anaconda3\\\\lib\\\\site-packages\\\\vicks\\\\firebase.py'>"
      ]
     },
     "execution_count": 5,
     "metadata": {},
     "output_type": "execute_result"
    }
   ],
   "source": [
    "from vicks import firebase as f\n",
    "f"
   ]
  },
  {
   "cell_type": "code",
   "execution_count": 6,
   "metadata": {},
   "outputs": [
    {
     "data": {
      "text/plain": [
       "<vicks.firebase.FirebaseApplication at 0x1cee2c6e730>"
      ]
     },
     "execution_count": 6,
     "metadata": {},
     "output_type": "execute_result"
    }
   ],
   "source": [
    "firebase_obj = f.FirebaseApplication('https://vickservice-36ac9-default-rtdb.asia-southeast1.firebasedatabase.app/', None)\n",
    "firebase_obj"
   ]
  },
  {
   "cell_type": "code",
   "execution_count": 6,
   "metadata": {},
   "outputs": [
    {
     "data": {
      "text/plain": [
       "{'-MskY2jgTQx1E51y3YQM': 'ok',\n",
       " '-MskYAfrls7TElbW5H1H': 52,\n",
       " '-MskYkKFey_KwyusDKNF': 53,\n",
       " '-Msk_7F5dYE-sVbX_wAJ': 53,\n",
       " '-Mska-wqjwFITx5EvBtU': 53}"
      ]
     },
     "execution_count": 6,
     "metadata": {},
     "output_type": "execute_result"
    }
   ],
   "source": [
    "# child = 'update'\n",
    "child = 'append/app1'\n",
    "\n",
    "result = firebase_obj.get(child, None)\n",
    "result"
   ]
  },
  {
   "cell_type": "code",
   "execution_count": 7,
   "metadata": {},
   "outputs": [
    {
     "data": {
      "text/plain": [
       "dict"
      ]
     },
     "execution_count": 7,
     "metadata": {},
     "output_type": "execute_result"
    }
   ],
   "source": [
    "type(result) "
   ]
  },
  {
   "cell_type": "code",
   "execution_count": 8,
   "metadata": {},
   "outputs": [
    {
     "data": {
      "text/plain": [
       "dict_keys(['-MskY2jgTQx1E51y3YQM', '-MskYAfrls7TElbW5H1H', '-MskYkKFey_KwyusDKNF', '-Msk_7F5dYE-sVbX_wAJ', '-Mska-wqjwFITx5EvBtU'])"
      ]
     },
     "execution_count": 8,
     "metadata": {},
     "output_type": "execute_result"
    }
   ],
   "source": [
    "result.keys()"
   ]
  },
  {
   "cell_type": "code",
   "execution_count": 9,
   "metadata": {},
   "outputs": [
    {
     "data": {
      "text/plain": [
       "dict_values(['ok', 52, 53, 53, 53])"
      ]
     },
     "execution_count": 9,
     "metadata": {},
     "output_type": "execute_result"
    }
   ],
   "source": [
    "result.values()"
   ]
  },
  {
   "cell_type": "code",
   "execution_count": 10,
   "metadata": {},
   "outputs": [
    {
     "data": {
      "text/plain": [
       "50"
      ]
     },
     "execution_count": 10,
     "metadata": {},
     "output_type": "execute_result"
    }
   ],
   "source": [
    "data = 50\n",
    "child = 'update/up1'\n",
    "\n",
    "firebase_obj.put('/', child, data)"
   ]
  },
  {
   "cell_type": "code",
   "execution_count": 11,
   "metadata": {},
   "outputs": [
    {
     "data": {
      "text/plain": [
       "{'name': '-MskgxfjNNJACI8AdTgQ'}"
      ]
     },
     "execution_count": 11,
     "metadata": {},
     "output_type": "execute_result"
    }
   ],
   "source": [
    "data = 53\n",
    "child = 'append/app1'\n",
    "\n",
    "firebase_obj.post(child, data)"
   ]
  },
  {
   "cell_type": "code",
   "execution_count": 12,
   "metadata": {},
   "outputs": [
    {
     "data": {
      "text/plain": [
       "{'append': {'app1': {'-MskY2jgTQx1E51y3YQM': 'ok',\n",
       "   '-MskYAfrls7TElbW5H1H': 52,\n",
       "   '-MskYkKFey_KwyusDKNF': 53,\n",
       "   '-Msk_7F5dYE-sVbX_wAJ': 53,\n",
       "   '-Mska-wqjwFITx5EvBtU': 53,\n",
       "   '-MskgxfjNNJACI8AdTgQ': 53}},\n",
       " 'instagram': {'imvickykumar999': {'photos': {'photo1': {'likes': 93}},\n",
       "   'reels': {'video1': {'likes': 50, 'views': 92},\n",
       "    'video2': {'likes': 78, 'views': 124}}}},\n",
       " 'update': {'up1': 50}}"
      ]
     },
     "execution_count": 12,
     "metadata": {},
     "output_type": "execute_result"
    }
   ],
   "source": [
    "data = firebase_obj.get('', None) \n",
    "data"
   ]
  },
  {
   "cell_type": "code",
   "execution_count": 13,
   "metadata": {},
   "outputs": [
    {
     "data": {
      "text/plain": [
       "dict"
      ]
     },
     "execution_count": 13,
     "metadata": {},
     "output_type": "execute_result"
    }
   ],
   "source": [
    "type(data)"
   ]
  },
  {
   "cell_type": "code",
   "execution_count": 14,
   "metadata": {},
   "outputs": [
    {
     "data": {
      "text/plain": [
       "{'append': {'app1': {'-MskY2jgTQx1E51y3YQM': 'ok',\n",
       "   '-MskYAfrls7TElbW5H1H': 52,\n",
       "   '-MskYkKFey_KwyusDKNF': 53}},\n",
       " 'update': {'up1': 50}}"
      ]
     },
     "execution_count": 14,
     "metadata": {},
     "output_type": "execute_result"
    }
   ],
   "source": [
    "import json\n",
    "filejson = 'vickservice-36ac9-default-rtdb-export.json'\n",
    "\n",
    "with open(filejson) as f:\n",
    "    data = json.load(f)\n",
    "\n",
    "data"
   ]
  },
  {
   "cell_type": "code",
   "execution_count": 15,
   "metadata": {},
   "outputs": [
    {
     "data": {
      "text/plain": [
       "dict"
      ]
     },
     "execution_count": 15,
     "metadata": {},
     "output_type": "execute_result"
    }
   ],
   "source": [
    "type(data)"
   ]
  },
  {
   "cell_type": "code",
   "execution_count": 16,
   "metadata": {},
   "outputs": [
    {
     "data": {
      "text/plain": [
       "['append', 'update']"
      ]
     },
     "execution_count": 16,
     "metadata": {},
     "output_type": "execute_result"
    }
   ],
   "source": [
    "dk = list(data.keys())\n",
    "dk"
   ]
  },
  {
   "cell_type": "code",
   "execution_count": 17,
   "metadata": {},
   "outputs": [
    {
     "data": {
      "text/plain": [
       "[{'app1': {'-MskY2jgTQx1E51y3YQM': 'ok',\n",
       "   '-MskYAfrls7TElbW5H1H': 52,\n",
       "   '-MskYkKFey_KwyusDKNF': 53}},\n",
       " {'up1': 50}]"
      ]
     },
     "execution_count": 17,
     "metadata": {},
     "output_type": "execute_result"
    }
   ],
   "source": [
    "dv = list(data.values())\n",
    "dv"
   ]
  },
  {
   "cell_type": "code",
   "execution_count": 18,
   "metadata": {},
   "outputs": [
    {
     "data": {
      "text/plain": [
       "{'app1': {'-MskY2jgTQx1E51y3YQM': 'ok',\n",
       "  '-MskYAfrls7TElbW5H1H': 52,\n",
       "  '-MskYkKFey_KwyusDKNF': 53}}"
      ]
     },
     "execution_count": 18,
     "metadata": {},
     "output_type": "execute_result"
    }
   ],
   "source": [
    "dv[0]"
   ]
  },
  {
   "cell_type": "code",
   "execution_count": 19,
   "metadata": {},
   "outputs": [
    {
     "data": {
      "text/plain": [
       "{'up1': 50}"
      ]
     },
     "execution_count": 19,
     "metadata": {},
     "output_type": "execute_result"
    }
   ],
   "source": [
    "dv[1]"
   ]
  },
  {
   "cell_type": "code",
   "execution_count": 20,
   "metadata": {},
   "outputs": [
    {
     "data": {
      "text/plain": [
       "['app1']"
      ]
     },
     "execution_count": 20,
     "metadata": {},
     "output_type": "execute_result"
    }
   ],
   "source": [
    "dvk = list(dv[0].keys())\n",
    "dvk"
   ]
  },
  {
   "cell_type": "code",
   "execution_count": 21,
   "metadata": {},
   "outputs": [
    {
     "data": {
      "text/plain": [
       "[{'-MskY2jgTQx1E51y3YQM': 'ok',\n",
       "  '-MskYAfrls7TElbW5H1H': 52,\n",
       "  '-MskYkKFey_KwyusDKNF': 53}]"
      ]
     },
     "execution_count": 21,
     "metadata": {},
     "output_type": "execute_result"
    }
   ],
   "source": [
    "dvv = list(dv[0].values())\n",
    "dvv"
   ]
  },
  {
   "cell_type": "code",
   "execution_count": 22,
   "metadata": {},
   "outputs": [
    {
     "data": {
      "text/plain": [
       "{'-MskY2jgTQx1E51y3YQM': 'ok',\n",
       " '-MskYAfrls7TElbW5H1H': 52,\n",
       " '-MskYkKFey_KwyusDKNF': 53}"
      ]
     },
     "execution_count": 22,
     "metadata": {},
     "output_type": "execute_result"
    }
   ],
   "source": [
    "dvv[0]"
   ]
  },
  {
   "cell_type": "code",
   "execution_count": 23,
   "metadata": {},
   "outputs": [
    {
     "data": {
      "text/plain": [
       "dict_keys(['-MskY2jgTQx1E51y3YQM', '-MskYAfrls7TElbW5H1H', '-MskYkKFey_KwyusDKNF'])"
      ]
     },
     "execution_count": 23,
     "metadata": {},
     "output_type": "execute_result"
    }
   ],
   "source": [
    "dvv[0].keys()"
   ]
  },
  {
   "cell_type": "code",
   "execution_count": 24,
   "metadata": {},
   "outputs": [
    {
     "data": {
      "text/plain": [
       "dict_values(['ok', 52, 53])"
      ]
     },
     "execution_count": 24,
     "metadata": {},
     "output_type": "execute_result"
    }
   ],
   "source": [
    "dvv[0].values()"
   ]
  },
  {
   "cell_type": "code",
   "execution_count": 25,
   "metadata": {},
   "outputs": [],
   "source": [
    "# =================================="
   ]
  },
  {
   "cell_type": "code",
   "execution_count": 26,
   "metadata": {},
   "outputs": [
    {
     "data": {
      "text/plain": [
       "50"
      ]
     },
     "execution_count": 26,
     "metadata": {},
     "output_type": "execute_result"
    }
   ],
   "source": [
    "data = 50\n",
    "child = 'instagram/imvickykumar999/reels/video1/likes'\n",
    "\n",
    "firebase_obj.put('/', child, data)"
   ]
  },
  {
   "cell_type": "code",
   "execution_count": 27,
   "metadata": {},
   "outputs": [
    {
     "data": {
      "text/plain": [
       "92"
      ]
     },
     "execution_count": 27,
     "metadata": {},
     "output_type": "execute_result"
    }
   ],
   "source": [
    "data = 92\n",
    "child = 'instagram/imvickykumar999/reels/video1/views'\n",
    "\n",
    "firebase_obj.put('/', child, data)"
   ]
  },
  {
   "cell_type": "code",
   "execution_count": 28,
   "metadata": {},
   "outputs": [
    {
     "data": {
      "text/plain": [
       "78"
      ]
     },
     "execution_count": 28,
     "metadata": {},
     "output_type": "execute_result"
    }
   ],
   "source": [
    "data = 78\n",
    "child = 'instagram/imvickykumar999/reels/video2/likes'\n",
    "\n",
    "firebase_obj.put('/', child, data)"
   ]
  },
  {
   "cell_type": "code",
   "execution_count": 29,
   "metadata": {},
   "outputs": [
    {
     "data": {
      "text/plain": [
       "124"
      ]
     },
     "execution_count": 29,
     "metadata": {},
     "output_type": "execute_result"
    }
   ],
   "source": [
    "data = 124\n",
    "child = 'instagram/imvickykumar999/reels/video2/views'\n",
    "\n",
    "firebase_obj.put('/', child, data)"
   ]
  },
  {
   "cell_type": "code",
   "execution_count": 30,
   "metadata": {},
   "outputs": [
    {
     "data": {
      "text/plain": [
       "93"
      ]
     },
     "execution_count": 30,
     "metadata": {},
     "output_type": "execute_result"
    }
   ],
   "source": [
    "data = 93\n",
    "child = 'instagram/imvickykumar999/photos/photo1/likes'\n",
    "\n",
    "firebase_obj.put('/', child, data)"
   ]
  },
  {
   "cell_type": "code",
   "execution_count": 31,
   "metadata": {},
   "outputs": [
    {
     "data": {
      "text/plain": [
       "{'append': {'app1': {'-MskY2jgTQx1E51y3YQM': 'ok',\n",
       "   '-MskYAfrls7TElbW5H1H': 52,\n",
       "   '-MskYkKFey_KwyusDKNF': 53,\n",
       "   '-Msk_7F5dYE-sVbX_wAJ': 53,\n",
       "   '-Mska-wqjwFITx5EvBtU': 53,\n",
       "   '-MskgxfjNNJACI8AdTgQ': 53}},\n",
       " 'instagram': {'imvickykumar999': {'photos': {'photo1': {'likes': 93}},\n",
       "   'reels': {'video1': {'likes': 50, 'views': 92},\n",
       "    'video2': {'likes': 78, 'views': 124}}}},\n",
       " 'update': {'up1': 50}}"
      ]
     },
     "execution_count": 31,
     "metadata": {},
     "output_type": "execute_result"
    }
   ],
   "source": [
    "firebase_obj.get('/', None)"
   ]
  },
  {
   "cell_type": "code",
   "execution_count": null,
   "metadata": {},
   "outputs": [],
   "source": []
  }
 ],
 "metadata": {
  "kernelspec": {
   "display_name": "Python 3",
   "language": "python",
   "name": "python3"
  },
  "language_info": {
   "codemirror_mode": {
    "name": "ipython",
    "version": 3
   },
   "file_extension": ".py",
   "mimetype": "text/x-python",
   "name": "python",
   "nbconvert_exporter": "python",
   "pygments_lexer": "ipython3",
   "version": "3.8.3"
  }
 },
 "nbformat": 4,
 "nbformat_minor": 4
}
